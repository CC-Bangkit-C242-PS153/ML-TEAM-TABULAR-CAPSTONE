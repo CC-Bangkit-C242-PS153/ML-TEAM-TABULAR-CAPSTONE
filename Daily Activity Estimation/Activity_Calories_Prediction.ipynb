{
 "cells": [
  {
   "cell_type": "markdown",
   "metadata": {},
   "source": [
    "# Library"
   ]
  },
  {
   "cell_type": "code",
   "execution_count": 2,
   "metadata": {},
   "outputs": [],
   "source": [
    "import tensorflow as tf\n",
    "import numpy as np"
   ]
  },
  {
   "cell_type": "markdown",
   "metadata": {},
   "source": [
    "# Load the model"
   ]
  },
  {
   "cell_type": "code",
   "execution_count": 3,
   "metadata": {},
   "outputs": [
    {
     "name": "stderr",
     "output_type": "stream",
     "text": [
      "WARNING:absl:Compiled the loaded model, but the compiled metrics have yet to be built. `model.compile_metrics` will be empty until you train or evaluate the model.\n"
     ]
    }
   ],
   "source": [
    "model = tf.keras.models.load_model('Model Checkpoint/Activity_Calories_Prediction model.h5')"
   ]
  },
  {
   "cell_type": "markdown",
   "metadata": {},
   "source": [
    "# Predict"
   ]
  },
  {
   "cell_type": "code",
   "execution_count": 4,
   "metadata": {},
   "outputs": [
    {
     "name": "stdout",
     "output_type": "stream",
     "text": [
      "\u001b[1m1/1\u001b[0m \u001b[32m━━━━━━━━━━━━━━━━━━━━\u001b[0m\u001b[37m\u001b[0m \u001b[1m0s\u001b[0m 96ms/step\n",
      "Data 1:\n",
      "Predicted Calories: 232.11\n",
      "------------------------------\n",
      "Data 2:\n",
      "Predicted Calories: 63.50\n",
      "------------------------------\n",
      "Data 3:\n",
      "Predicted Calories: 24.21\n",
      "------------------------------\n",
      "Data 4:\n",
      "Predicted Calories: 69.57\n",
      "------------------------------\n",
      "Data 5:\n",
      "Predicted Calories: 34.72\n",
      "------------------------------\n"
     ]
    }
   ],
   "source": [
    "new_data = np.array([\n",
    "    [1, 68, 190.0, 94.0, 29.0, 105.0, 40.8],  \n",
    "    [0, 20, 166.0, 60.0, 14.0, 94.0, 40.3], \n",
    "    [1, 69, 179.0, 79.0, 5.0, 88.0, 38.7],   \n",
    "    [0, 34, 179.0, 71.0, 13.0, 100.0, 40.5],\n",
    "    [0, 27, 154.0, 58.0, 10.0, 81.0, 39.8]  \n",
    "])\n",
    "\n",
    "predictions = model.predict(new_data)\n",
    "\n",
    "for i, prediction in enumerate(predictions):\n",
    "    print(f\"Data {i+1}:\")\n",
    "    print(f\"Predicted Calories: {prediction[0]:.2f}\")  \n",
    "    print('-' * 30)\n"
   ]
  },
  {
   "cell_type": "markdown",
   "metadata": {},
   "source": [
    "# JSON and Weights"
   ]
  },
  {
   "cell_type": "code",
   "execution_count": 7,
   "metadata": {},
   "outputs": [
    {
     "name": "stdout",
     "output_type": "stream",
     "text": [
      "Model architecture has been saved as JSON.\n"
     ]
    }
   ],
   "source": [
    "model_json = model.to_json()\n",
    "\n",
    "with open('Model Checkpoint/Activity_Calories_Prediction_Model_Architecture.json', 'w') as json_file:\n",
    "    json_file.write(model_json)\n",
    "\n",
    "print(\"Model architecture has been saved as JSON.\")"
   ]
  },
  {
   "cell_type": "code",
   "execution_count": 8,
   "metadata": {},
   "outputs": [
    {
     "name": "stdout",
     "output_type": "stream",
     "text": [
      "Model weights have been saved as .bin.\n"
     ]
    }
   ],
   "source": [
    "weights = model.get_weights()\n",
    "\n",
    "with open('Model Checkpoint/Activity_Calories_Prediction_Model_Weights.bin', 'wb') as bin_file:\n",
    "    for weight_array in weights:\n",
    "        weight_array.astype(np.float32).tofile(bin_file)\n",
    "\n",
    "print(\"Model weights have been saved as .bin.\")"
   ]
  }
 ],
 "metadata": {
  "kernelspec": {
   "display_name": "Python 3",
   "language": "python",
   "name": "python3"
  },
  "language_info": {
   "codemirror_mode": {
    "name": "ipython",
    "version": 3
   },
   "file_extension": ".py",
   "mimetype": "text/x-python",
   "name": "python",
   "nbconvert_exporter": "python",
   "pygments_lexer": "ipython3",
   "version": "3.12.6"
  }
 },
 "nbformat": 4,
 "nbformat_minor": 2
}
