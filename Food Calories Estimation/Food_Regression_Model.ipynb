{
 "cells": [
  {
   "cell_type": "markdown",
   "metadata": {
    "id": "Hv8aUrU4oj6X"
   },
   "source": [
    "# Libraries"
   ]
  },
  {
   "cell_type": "code",
   "execution_count": 1,
   "metadata": {
    "id": "SMP9H3evofPW"
   },
   "outputs": [],
   "source": [
    "import gdown\n",
    "import pandas as pd\n",
    "import numpy as np\n",
    "import matplotlib.pyplot as plt\n",
    "\n",
    "from sklearn.preprocessing import LabelEncoder, MinMaxScaler\n",
    "from sklearn.model_selection import train_test_split\n",
    "\n",
    "import tensorflow as tf\n",
    "\n",
    "from sklearn.metrics import mean_absolute_error, mean_squared_error"
   ]
  },
  {
   "cell_type": "markdown",
   "metadata": {
    "id": "w7t0mmnEoln7"
   },
   "source": [
    "# Data Information"
   ]
  },
  {
   "cell_type": "code",
   "execution_count": 2,
   "metadata": {
    "colab": {
     "base_uri": "https://localhost:8080/"
    },
    "id": "HYXVOEL8oo34",
    "outputId": "aa587252-8754-43d9-c69c-b7250fcb5679"
   },
   "outputs": [
    {
     "name": "stderr",
     "output_type": "stream",
     "text": [
      "Downloading...\n",
      "From: https://drive.google.com/uc?id=1zf7-5OIQAw-k8_iwPyqmyeegQ1G31oY5\n",
      "To: c:\\Users\\firma\\Documents\\Python\\Bangkit\\Food Calories Estimation\\Dataset2\\Food Calories Estimation.csv\n",
      "100%|██████████| 2.48M/2.48M [00:01<00:00, 1.96MB/s]\n"
     ]
    }
   ],
   "source": [
    "train_file_id = '1zf7-5OIQAw-k8_iwPyqmyeegQ1G31oY5'\n",
    "train_output_file = 'Dataset2/Food Calories Estimation.csv'\n",
    "\n",
    "train_download_url = f'https://drive.google.com/uc?id={train_file_id}'\n",
    "\n",
    "gdown.download(train_download_url, train_output_file, quiet=False)\n",
    "\n",
    "df = pd.read_csv(train_output_file)"
   ]
  },
  {
   "cell_type": "code",
   "execution_count": 3,
   "metadata": {
    "colab": {
     "base_uri": "https://localhost:8080/",
     "height": 360
    },
    "id": "Z44oPqDdof4E",
    "outputId": "2c2fb611-5f59-46fa-e1e7-eb0d6cca103e"
   },
   "outputs": [
    {
     "data": {
      "text/html": [
       "<div>\n",
       "<style scoped>\n",
       "    .dataframe tbody tr th:only-of-type {\n",
       "        vertical-align: middle;\n",
       "    }\n",
       "\n",
       "    .dataframe tbody tr th {\n",
       "        vertical-align: top;\n",
       "    }\n",
       "\n",
       "    .dataframe thead th {\n",
       "        text-align: right;\n",
       "    }\n",
       "</style>\n",
       "<table border=\"1\" class=\"dataframe\">\n",
       "  <thead>\n",
       "    <tr style=\"text-align: right;\">\n",
       "      <th></th>\n",
       "      <th>index</th>\n",
       "      <th>NDB_No</th>\n",
       "      <th>Shrt_Desc</th>\n",
       "      <th>Water_(g)</th>\n",
       "      <th>Energ_Kcal</th>\n",
       "      <th>Protein_(g)</th>\n",
       "      <th>Lipid_Tot_(g)</th>\n",
       "      <th>Ash_(g)</th>\n",
       "      <th>Carbohydrt_(g)</th>\n",
       "      <th>Fiber_TD_(g)</th>\n",
       "      <th>...</th>\n",
       "      <th>Vit_K_(µg)</th>\n",
       "      <th>FA_Sat_(g)</th>\n",
       "      <th>FA_Mono_(g)</th>\n",
       "      <th>FA_Poly_(g)</th>\n",
       "      <th>Cholestrl_(mg)</th>\n",
       "      <th>GmWt_1</th>\n",
       "      <th>GmWt_Desc1</th>\n",
       "      <th>GmWt_2</th>\n",
       "      <th>GmWt_Desc2</th>\n",
       "      <th>Refuse_Pct</th>\n",
       "    </tr>\n",
       "  </thead>\n",
       "  <tbody>\n",
       "    <tr>\n",
       "      <th>0</th>\n",
       "      <td>0</td>\n",
       "      <td>1001</td>\n",
       "      <td>BUTTER,WITH SALT</td>\n",
       "      <td>15.87</td>\n",
       "      <td>717</td>\n",
       "      <td>0.85</td>\n",
       "      <td>81.11</td>\n",
       "      <td>2.11</td>\n",
       "      <td>0.06</td>\n",
       "      <td>0.0</td>\n",
       "      <td>...</td>\n",
       "      <td>7.0</td>\n",
       "      <td>51.368</td>\n",
       "      <td>21.021</td>\n",
       "      <td>3.043</td>\n",
       "      <td>215.0</td>\n",
       "      <td>5.00</td>\n",
       "      <td>1 pat,  (1\" sq, 1/3\" high)</td>\n",
       "      <td>14.2</td>\n",
       "      <td>1 tbsp</td>\n",
       "      <td>0.0</td>\n",
       "    </tr>\n",
       "    <tr>\n",
       "      <th>1</th>\n",
       "      <td>1</td>\n",
       "      <td>1002</td>\n",
       "      <td>BUTTER,WHIPPED,W/ SALT</td>\n",
       "      <td>16.72</td>\n",
       "      <td>718</td>\n",
       "      <td>0.49</td>\n",
       "      <td>78.30</td>\n",
       "      <td>1.62</td>\n",
       "      <td>2.87</td>\n",
       "      <td>0.0</td>\n",
       "      <td>...</td>\n",
       "      <td>4.6</td>\n",
       "      <td>45.390</td>\n",
       "      <td>19.874</td>\n",
       "      <td>3.331</td>\n",
       "      <td>225.0</td>\n",
       "      <td>3.80</td>\n",
       "      <td>1 pat,  (1\" sq, 1/3\" high)</td>\n",
       "      <td>9.4</td>\n",
       "      <td>1 tbsp</td>\n",
       "      <td>0.0</td>\n",
       "    </tr>\n",
       "    <tr>\n",
       "      <th>2</th>\n",
       "      <td>2</td>\n",
       "      <td>1003</td>\n",
       "      <td>BUTTER OIL,ANHYDROUS</td>\n",
       "      <td>0.24</td>\n",
       "      <td>876</td>\n",
       "      <td>0.28</td>\n",
       "      <td>99.48</td>\n",
       "      <td>0.00</td>\n",
       "      <td>0.00</td>\n",
       "      <td>0.0</td>\n",
       "      <td>...</td>\n",
       "      <td>8.6</td>\n",
       "      <td>61.924</td>\n",
       "      <td>28.732</td>\n",
       "      <td>3.694</td>\n",
       "      <td>256.0</td>\n",
       "      <td>12.80</td>\n",
       "      <td>1 tbsp</td>\n",
       "      <td>205.0</td>\n",
       "      <td>1 cup</td>\n",
       "      <td>0.0</td>\n",
       "    </tr>\n",
       "    <tr>\n",
       "      <th>3</th>\n",
       "      <td>3</td>\n",
       "      <td>1004</td>\n",
       "      <td>CHEESE,BLUE</td>\n",
       "      <td>42.41</td>\n",
       "      <td>353</td>\n",
       "      <td>21.40</td>\n",
       "      <td>28.74</td>\n",
       "      <td>5.11</td>\n",
       "      <td>2.34</td>\n",
       "      <td>0.0</td>\n",
       "      <td>...</td>\n",
       "      <td>2.4</td>\n",
       "      <td>18.669</td>\n",
       "      <td>7.778</td>\n",
       "      <td>0.800</td>\n",
       "      <td>75.0</td>\n",
       "      <td>28.35</td>\n",
       "      <td>1 oz</td>\n",
       "      <td>17.0</td>\n",
       "      <td>1 cubic inch</td>\n",
       "      <td>0.0</td>\n",
       "    </tr>\n",
       "    <tr>\n",
       "      <th>4</th>\n",
       "      <td>4</td>\n",
       "      <td>1005</td>\n",
       "      <td>CHEESE,BRICK</td>\n",
       "      <td>41.11</td>\n",
       "      <td>371</td>\n",
       "      <td>23.24</td>\n",
       "      <td>29.68</td>\n",
       "      <td>3.18</td>\n",
       "      <td>2.79</td>\n",
       "      <td>0.0</td>\n",
       "      <td>...</td>\n",
       "      <td>2.5</td>\n",
       "      <td>18.764</td>\n",
       "      <td>8.598</td>\n",
       "      <td>0.784</td>\n",
       "      <td>94.0</td>\n",
       "      <td>132.00</td>\n",
       "      <td>1 cup, diced</td>\n",
       "      <td>113.0</td>\n",
       "      <td>1 cup, shredded</td>\n",
       "      <td>0.0</td>\n",
       "    </tr>\n",
       "  </tbody>\n",
       "</table>\n",
       "<p>5 rows × 54 columns</p>\n",
       "</div>"
      ],
      "text/plain": [
       "   index  NDB_No               Shrt_Desc  Water_(g)  Energ_Kcal  Protein_(g)  \\\n",
       "0      0    1001        BUTTER,WITH SALT      15.87         717         0.85   \n",
       "1      1    1002  BUTTER,WHIPPED,W/ SALT      16.72         718         0.49   \n",
       "2      2    1003    BUTTER OIL,ANHYDROUS       0.24         876         0.28   \n",
       "3      3    1004             CHEESE,BLUE      42.41         353        21.40   \n",
       "4      4    1005            CHEESE,BRICK      41.11         371        23.24   \n",
       "\n",
       "   Lipid_Tot_(g)  Ash_(g)  Carbohydrt_(g)  Fiber_TD_(g)  ...  Vit_K_(µg)  \\\n",
       "0          81.11     2.11            0.06           0.0  ...         7.0   \n",
       "1          78.30     1.62            2.87           0.0  ...         4.6   \n",
       "2          99.48     0.00            0.00           0.0  ...         8.6   \n",
       "3          28.74     5.11            2.34           0.0  ...         2.4   \n",
       "4          29.68     3.18            2.79           0.0  ...         2.5   \n",
       "\n",
       "   FA_Sat_(g)  FA_Mono_(g)  FA_Poly_(g)  Cholestrl_(mg)  GmWt_1  \\\n",
       "0      51.368       21.021        3.043           215.0    5.00   \n",
       "1      45.390       19.874        3.331           225.0    3.80   \n",
       "2      61.924       28.732        3.694           256.0   12.80   \n",
       "3      18.669        7.778        0.800            75.0   28.35   \n",
       "4      18.764        8.598        0.784            94.0  132.00   \n",
       "\n",
       "                   GmWt_Desc1  GmWt_2       GmWt_Desc2  Refuse_Pct  \n",
       "0  1 pat,  (1\" sq, 1/3\" high)    14.2           1 tbsp         0.0  \n",
       "1  1 pat,  (1\" sq, 1/3\" high)     9.4           1 tbsp         0.0  \n",
       "2                      1 tbsp   205.0            1 cup         0.0  \n",
       "3                        1 oz    17.0     1 cubic inch         0.0  \n",
       "4                1 cup, diced   113.0  1 cup, shredded         0.0  \n",
       "\n",
       "[5 rows x 54 columns]"
      ]
     },
     "execution_count": 3,
     "metadata": {},
     "output_type": "execute_result"
    }
   ],
   "source": [
    "df.head()"
   ]
  },
  {
   "cell_type": "code",
   "execution_count": 4,
   "metadata": {
    "colab": {
     "base_uri": "https://localhost:8080/"
    },
    "id": "vipD_BqXotQo",
    "outputId": "3d692f39-08cd-475f-af9b-a1cfe31a1e25"
   },
   "outputs": [
    {
     "name": "stdout",
     "output_type": "stream",
     "text": [
      "<class 'pandas.core.frame.DataFrame'>\n",
      "RangeIndex: 8790 entries, 0 to 8789\n",
      "Data columns (total 54 columns):\n",
      " #   Column             Non-Null Count  Dtype  \n",
      "---  ------             --------------  -----  \n",
      " 0   index              8790 non-null   int64  \n",
      " 1   NDB_No             8790 non-null   int64  \n",
      " 2   Shrt_Desc          8790 non-null   object \n",
      " 3   Water_(g)          8789 non-null   float64\n",
      " 4   Energ_Kcal         8790 non-null   int64  \n",
      " 5   Protein_(g)        8790 non-null   float64\n",
      " 6   Lipid_Tot_(g)      8790 non-null   float64\n",
      " 7   Ash_(g)            8465 non-null   float64\n",
      " 8   Carbohydrt_(g)     8790 non-null   float64\n",
      " 9   Fiber_TD_(g)       8196 non-null   float64\n",
      " 10  Sugar_Tot_(g)      6958 non-null   float64\n",
      " 11  Calcium_(mg)       8442 non-null   float64\n",
      " 12  Iron_(mg)          8646 non-null   float64\n",
      " 13  Magnesium_(mg)     8051 non-null   float64\n",
      " 14  Phosphorus_(mg)    8211 non-null   float64\n",
      " 15  Potassium_(mg)     8364 non-null   float64\n",
      " 16  Sodium_(mg)        8707 non-null   float64\n",
      " 17  Zinc_(mg)          8084 non-null   float64\n",
      " 18  Copper_mg)         7533 non-null   float64\n",
      " 19  Manganese_(mg)     6630 non-null   float64\n",
      " 20  Selenium_(µg)      7090 non-null   float64\n",
      " 21  Vit_C_(mg)         7972 non-null   float64\n",
      " 22  Thiamin_(mg)       8156 non-null   float64\n",
      " 23  Riboflavin_(mg)    8174 non-null   float64\n",
      " 24  Niacin_(mg)        8153 non-null   float64\n",
      " 25  Panto_Acid_mg)     6548 non-null   float64\n",
      " 26  Vit_B6_(mg)        7885 non-null   float64\n",
      " 27  Folate_Tot_(µg)    7529 non-null   float64\n",
      " 28  Folic_Acid_(µg)    6751 non-null   float64\n",
      " 29  Food_Folate_(µg)   7022 non-null   float64\n",
      " 30  Folate_DFE_(µg)    6733 non-null   float64\n",
      " 31  Choline_Tot_ (mg)  4774 non-null   float64\n",
      " 32  Vit_B12_(µg)       7597 non-null   float64\n",
      " 33  Vit_A_IU           8079 non-null   float64\n",
      " 34  Vit_A_RAE          7255 non-null   float64\n",
      " 35  Retinol_(µg)       6984 non-null   float64\n",
      " 36  Alpha_Carot_(µg)   5532 non-null   float64\n",
      " 37  Beta_Carot_(µg)    5628 non-null   float64\n",
      " 38  Beta_Crypt_(µg)    5520 non-null   float64\n",
      " 39  Lycopene_(µg)      5498 non-null   float64\n",
      " 40  Lut+Zea_ (µg)      5475 non-null   float64\n",
      " 41  Vit_E_(mg)         5901 non-null   float64\n",
      " 42  Vit_D_µg           5528 non-null   float64\n",
      " 43  Vit_D_IU           5579 non-null   float64\n",
      " 44  Vit_K_(µg)         5227 non-null   float64\n",
      " 45  FA_Sat_(g)         8441 non-null   float64\n",
      " 46  FA_Mono_(g)        8124 non-null   float64\n",
      " 47  FA_Poly_(g)        8125 non-null   float64\n",
      " 48  Cholestrl_(mg)     8380 non-null   float64\n",
      " 49  GmWt_1             8490 non-null   float64\n",
      " 50  GmWt_Desc1         8491 non-null   object \n",
      " 51  GmWt_2             4825 non-null   float64\n",
      " 52  GmWt_Desc2         4825 non-null   object \n",
      " 53  Refuse_Pct         8740 non-null   float64\n",
      "dtypes: float64(48), int64(3), object(3)\n",
      "memory usage: 3.6+ MB\n"
     ]
    }
   ],
   "source": [
    "df.info()"
   ]
  },
  {
   "cell_type": "markdown",
   "metadata": {
    "id": "uwtNSpKNoz7Y"
   },
   "source": [
    "# Data Cleaning"
   ]
  },
  {
   "cell_type": "markdown",
   "metadata": {
    "id": "YRXND3tgo1kH"
   },
   "source": [
    "## Choose Best Features"
   ]
  },
  {
   "cell_type": "code",
   "execution_count": 5,
   "metadata": {
    "colab": {
     "base_uri": "https://localhost:8080/",
     "height": 206
    },
    "id": "RoQlfWvSowLq",
    "outputId": "d3a7c96a-c255-40f3-8b8c-7287e06dc002"
   },
   "outputs": [
    {
     "data": {
      "text/html": [
       "<div>\n",
       "<style scoped>\n",
       "    .dataframe tbody tr th:only-of-type {\n",
       "        vertical-align: middle;\n",
       "    }\n",
       "\n",
       "    .dataframe tbody tr th {\n",
       "        vertical-align: top;\n",
       "    }\n",
       "\n",
       "    .dataframe thead th {\n",
       "        text-align: right;\n",
       "    }\n",
       "</style>\n",
       "<table border=\"1\" class=\"dataframe\">\n",
       "  <thead>\n",
       "    <tr style=\"text-align: right;\">\n",
       "      <th></th>\n",
       "      <th>Shrt_Desc</th>\n",
       "      <th>Water_(g)</th>\n",
       "      <th>Energ_Kcal</th>\n",
       "      <th>Protein_(g)</th>\n",
       "      <th>Lipid_Tot_(g)</th>\n",
       "      <th>Ash_(g)</th>\n",
       "      <th>Carbohydrt_(g)</th>\n",
       "      <th>Fiber_TD_(g)</th>\n",
       "      <th>Sugar_Tot_(g)</th>\n",
       "    </tr>\n",
       "  </thead>\n",
       "  <tbody>\n",
       "    <tr>\n",
       "      <th>0</th>\n",
       "      <td>BUTTER,WITH SALT</td>\n",
       "      <td>15.87</td>\n",
       "      <td>717</td>\n",
       "      <td>0.85</td>\n",
       "      <td>81.11</td>\n",
       "      <td>2.11</td>\n",
       "      <td>0.06</td>\n",
       "      <td>0.0</td>\n",
       "      <td>0.06</td>\n",
       "    </tr>\n",
       "    <tr>\n",
       "      <th>1</th>\n",
       "      <td>BUTTER,WHIPPED,W/ SALT</td>\n",
       "      <td>16.72</td>\n",
       "      <td>718</td>\n",
       "      <td>0.49</td>\n",
       "      <td>78.30</td>\n",
       "      <td>1.62</td>\n",
       "      <td>2.87</td>\n",
       "      <td>0.0</td>\n",
       "      <td>0.06</td>\n",
       "    </tr>\n",
       "    <tr>\n",
       "      <th>2</th>\n",
       "      <td>BUTTER OIL,ANHYDROUS</td>\n",
       "      <td>0.24</td>\n",
       "      <td>876</td>\n",
       "      <td>0.28</td>\n",
       "      <td>99.48</td>\n",
       "      <td>0.00</td>\n",
       "      <td>0.00</td>\n",
       "      <td>0.0</td>\n",
       "      <td>0.00</td>\n",
       "    </tr>\n",
       "    <tr>\n",
       "      <th>3</th>\n",
       "      <td>CHEESE,BLUE</td>\n",
       "      <td>42.41</td>\n",
       "      <td>353</td>\n",
       "      <td>21.40</td>\n",
       "      <td>28.74</td>\n",
       "      <td>5.11</td>\n",
       "      <td>2.34</td>\n",
       "      <td>0.0</td>\n",
       "      <td>0.50</td>\n",
       "    </tr>\n",
       "    <tr>\n",
       "      <th>4</th>\n",
       "      <td>CHEESE,BRICK</td>\n",
       "      <td>41.11</td>\n",
       "      <td>371</td>\n",
       "      <td>23.24</td>\n",
       "      <td>29.68</td>\n",
       "      <td>3.18</td>\n",
       "      <td>2.79</td>\n",
       "      <td>0.0</td>\n",
       "      <td>0.51</td>\n",
       "    </tr>\n",
       "  </tbody>\n",
       "</table>\n",
       "</div>"
      ],
      "text/plain": [
       "                Shrt_Desc  Water_(g)  Energ_Kcal  Protein_(g)  Lipid_Tot_(g)  \\\n",
       "0        BUTTER,WITH SALT      15.87         717         0.85          81.11   \n",
       "1  BUTTER,WHIPPED,W/ SALT      16.72         718         0.49          78.30   \n",
       "2    BUTTER OIL,ANHYDROUS       0.24         876         0.28          99.48   \n",
       "3             CHEESE,BLUE      42.41         353        21.40          28.74   \n",
       "4            CHEESE,BRICK      41.11         371        23.24          29.68   \n",
       "\n",
       "   Ash_(g)  Carbohydrt_(g)  Fiber_TD_(g)  Sugar_Tot_(g)  \n",
       "0     2.11            0.06           0.0           0.06  \n",
       "1     1.62            2.87           0.0           0.06  \n",
       "2     0.00            0.00           0.0           0.00  \n",
       "3     5.11            2.34           0.0           0.50  \n",
       "4     3.18            2.79           0.0           0.51  "
      ]
     },
     "execution_count": 5,
     "metadata": {},
     "output_type": "execute_result"
    }
   ],
   "source": [
    "df = df[['Shrt_Desc', 'Water_(g)', 'Energ_Kcal','Protein_(g)', 'Lipid_Tot_(g)',\n",
    "         'Ash_(g)', 'Carbohydrt_(g)','Fiber_TD_(g)', 'Sugar_Tot_(g)']]\n",
    "df.head()"
   ]
  },
  {
   "cell_type": "code",
   "execution_count": 6,
   "metadata": {
    "colab": {
     "base_uri": "https://localhost:8080/",
     "height": 366
    },
    "id": "_msEeubhsHt3",
    "outputId": "2a8d9222-4137-45ba-8f87-42b3957b00e8"
   },
   "outputs": [
    {
     "data": {
      "text/plain": [
       "Shrt_Desc            0\n",
       "Water_(g)            1\n",
       "Energ_Kcal           0\n",
       "Protein_(g)          0\n",
       "Lipid_Tot_(g)        0\n",
       "Ash_(g)            325\n",
       "Carbohydrt_(g)       0\n",
       "Fiber_TD_(g)       594\n",
       "Sugar_Tot_(g)     1832\n",
       "dtype: int64"
      ]
     },
     "execution_count": 6,
     "metadata": {},
     "output_type": "execute_result"
    }
   ],
   "source": [
    "df.isnull().sum()"
   ]
  },
  {
   "cell_type": "markdown",
   "metadata": {
    "id": "BuT58FqDsTLx"
   },
   "source": [
    "## Mussing Values"
   ]
  },
  {
   "cell_type": "code",
   "execution_count": 7,
   "metadata": {
    "colab": {
     "base_uri": "https://localhost:8080/",
     "height": 206
    },
    "id": "ymalZzxHsIn2",
    "outputId": "8fca2191-d9a2-4583-d134-806130985b3e"
   },
   "outputs": [
    {
     "data": {
      "text/html": [
       "<div>\n",
       "<style scoped>\n",
       "    .dataframe tbody tr th:only-of-type {\n",
       "        vertical-align: middle;\n",
       "    }\n",
       "\n",
       "    .dataframe tbody tr th {\n",
       "        vertical-align: top;\n",
       "    }\n",
       "\n",
       "    .dataframe thead th {\n",
       "        text-align: right;\n",
       "    }\n",
       "</style>\n",
       "<table border=\"1\" class=\"dataframe\">\n",
       "  <thead>\n",
       "    <tr style=\"text-align: right;\">\n",
       "      <th></th>\n",
       "      <th>Shrt_Desc</th>\n",
       "      <th>Water_(g)</th>\n",
       "      <th>Energ_Kcal</th>\n",
       "      <th>Protein_(g)</th>\n",
       "      <th>Lipid_Tot_(g)</th>\n",
       "      <th>Ash_(g)</th>\n",
       "      <th>Carbohydrt_(g)</th>\n",
       "      <th>Fiber_TD_(g)</th>\n",
       "      <th>Sugar_Tot_(g)</th>\n",
       "    </tr>\n",
       "  </thead>\n",
       "  <tbody>\n",
       "    <tr>\n",
       "      <th>0</th>\n",
       "      <td>BUTTER,WITH SALT</td>\n",
       "      <td>15.87</td>\n",
       "      <td>717</td>\n",
       "      <td>0.85</td>\n",
       "      <td>81.11</td>\n",
       "      <td>2.11</td>\n",
       "      <td>0.06</td>\n",
       "      <td>0.0</td>\n",
       "      <td>0.06</td>\n",
       "    </tr>\n",
       "    <tr>\n",
       "      <th>1</th>\n",
       "      <td>BUTTER,WHIPPED,W/ SALT</td>\n",
       "      <td>16.72</td>\n",
       "      <td>718</td>\n",
       "      <td>0.49</td>\n",
       "      <td>78.30</td>\n",
       "      <td>1.62</td>\n",
       "      <td>2.87</td>\n",
       "      <td>0.0</td>\n",
       "      <td>0.06</td>\n",
       "    </tr>\n",
       "    <tr>\n",
       "      <th>2</th>\n",
       "      <td>BUTTER OIL,ANHYDROUS</td>\n",
       "      <td>0.24</td>\n",
       "      <td>876</td>\n",
       "      <td>0.28</td>\n",
       "      <td>99.48</td>\n",
       "      <td>0.00</td>\n",
       "      <td>0.00</td>\n",
       "      <td>0.0</td>\n",
       "      <td>0.00</td>\n",
       "    </tr>\n",
       "    <tr>\n",
       "      <th>3</th>\n",
       "      <td>CHEESE,BLUE</td>\n",
       "      <td>42.41</td>\n",
       "      <td>353</td>\n",
       "      <td>21.40</td>\n",
       "      <td>28.74</td>\n",
       "      <td>5.11</td>\n",
       "      <td>2.34</td>\n",
       "      <td>0.0</td>\n",
       "      <td>0.50</td>\n",
       "    </tr>\n",
       "    <tr>\n",
       "      <th>4</th>\n",
       "      <td>CHEESE,BRICK</td>\n",
       "      <td>41.11</td>\n",
       "      <td>371</td>\n",
       "      <td>23.24</td>\n",
       "      <td>29.68</td>\n",
       "      <td>3.18</td>\n",
       "      <td>2.79</td>\n",
       "      <td>0.0</td>\n",
       "      <td>0.51</td>\n",
       "    </tr>\n",
       "  </tbody>\n",
       "</table>\n",
       "</div>"
      ],
      "text/plain": [
       "                Shrt_Desc  Water_(g)  Energ_Kcal  Protein_(g)  Lipid_Tot_(g)  \\\n",
       "0        BUTTER,WITH SALT      15.87         717         0.85          81.11   \n",
       "1  BUTTER,WHIPPED,W/ SALT      16.72         718         0.49          78.30   \n",
       "2    BUTTER OIL,ANHYDROUS       0.24         876         0.28          99.48   \n",
       "3             CHEESE,BLUE      42.41         353        21.40          28.74   \n",
       "4            CHEESE,BRICK      41.11         371        23.24          29.68   \n",
       "\n",
       "   Ash_(g)  Carbohydrt_(g)  Fiber_TD_(g)  Sugar_Tot_(g)  \n",
       "0     2.11            0.06           0.0           0.06  \n",
       "1     1.62            2.87           0.0           0.06  \n",
       "2     0.00            0.00           0.0           0.00  \n",
       "3     5.11            2.34           0.0           0.50  \n",
       "4     3.18            2.79           0.0           0.51  "
      ]
     },
     "execution_count": 7,
     "metadata": {},
     "output_type": "execute_result"
    }
   ],
   "source": [
    "columns_to_fill = ['Ash_(g)','Water_(g)','Fiber_TD_(g)', 'Sugar_Tot_(g)']\n",
    "df[columns_to_fill] = df[columns_to_fill].fillna(df[columns_to_fill].median())\n",
    "df.head()"
   ]
  },
  {
   "cell_type": "markdown",
   "metadata": {
    "id": "c83YN27_yDXa"
   },
   "source": [
    "# Data Preprocessing"
   ]
  },
  {
   "cell_type": "markdown",
   "metadata": {
    "id": "Oud4L7CkyqiX"
   },
   "source": [
    "## Scaler"
   ]
  },
  {
   "cell_type": "code",
   "execution_count": 8,
   "metadata": {
    "colab": {
     "base_uri": "https://localhost:8080/",
     "height": 206
    },
    "id": "6BDyTS2EyGJk",
    "outputId": "9a40af4d-5a73-45fc-a717-f25b7f8378f2"
   },
   "outputs": [],
   "source": [
    "# columns_to_scaler = [col for col in df.columns if col not in ['Shrt_Desc']]\n",
    "# scaler = MinMaxScaler()\n",
    "# df[columns_to_scaler] = scaler.fit_transform(df[columns_to_scaler])\n",
    "# df.head()"
   ]
  },
  {
   "cell_type": "markdown",
   "metadata": {
    "id": "sFqUwzXZstuK"
   },
   "source": [
    "# Modeling"
   ]
  },
  {
   "cell_type": "markdown",
   "metadata": {
    "id": "-0EXqQEVsvDj"
   },
   "source": [
    "## Train Test Split"
   ]
  },
  {
   "cell_type": "code",
   "execution_count": 9,
   "metadata": {
    "id": "CAcsJs5bszLE"
   },
   "outputs": [],
   "source": [
    "features = [col for col in df.columns if col not in ['Energ_Kcal', 'Shrt_Desc']]\n",
    "target = 'Energ_Kcal'\n",
    "\n",
    "X = df[features]\n",
    "y = df[target]"
   ]
  },
  {
   "cell_type": "code",
   "execution_count": 10,
   "metadata": {
    "id": "onYdH3N_saDc"
   },
   "outputs": [],
   "source": [
    "X_train, X_test, y_train, y_test = train_test_split(X, y, train_size=0.8, test_size=0.2, random_state=0)"
   ]
  },
  {
   "cell_type": "markdown",
   "metadata": {
    "id": "qeYaNnM7trPU"
   },
   "source": [
    "## CNN_Model"
   ]
  },
  {
   "cell_type": "code",
   "execution_count": null,
   "metadata": {
    "colab": {
     "base_uri": "https://localhost:8080/",
     "height": 698
    },
    "id": "pp8IXggmtWch",
    "outputId": "31d1a710-324d-4b8d-8784-0b9c2ca62f56"
   },
   "outputs": [
    {
     "data": {
      "text/html": [
       "<pre style=\"white-space:pre;overflow-x:auto;line-height:normal;font-family:Menlo,'DejaVu Sans Mono',consolas,'Courier New',monospace\"><span style=\"font-weight: bold\">Model: \"sequential\"</span>\n",
       "</pre>\n"
      ],
      "text/plain": [
       "\u001b[1mModel: \"sequential\"\u001b[0m\n"
      ]
     },
     "metadata": {},
     "output_type": "display_data"
    },
    {
     "data": {
      "text/html": [
       "<pre style=\"white-space:pre;overflow-x:auto;line-height:normal;font-family:Menlo,'DejaVu Sans Mono',consolas,'Courier New',monospace\">┏━━━━━━━━━━━━━━━━━━━━━━━━━━━━━━━━━┳━━━━━━━━━━━━━━━━━━━━━━━━┳━━━━━━━━━━━━━━━┓\n",
       "┃<span style=\"font-weight: bold\"> Layer (type)                    </span>┃<span style=\"font-weight: bold\"> Output Shape           </span>┃<span style=\"font-weight: bold\">       Param # </span>┃\n",
       "┡━━━━━━━━━━━━━━━━━━━━━━━━━━━━━━━━━╇━━━━━━━━━━━━━━━━━━━━━━━━╇━━━━━━━━━━━━━━━┩\n",
       "│ dense (<span style=\"color: #0087ff; text-decoration-color: #0087ff\">Dense</span>)                   │ (<span style=\"color: #00d7ff; text-decoration-color: #00d7ff\">None</span>, <span style=\"color: #00af00; text-decoration-color: #00af00\">256</span>)            │         <span style=\"color: #00af00; text-decoration-color: #00af00\">2,048</span> │\n",
       "├─────────────────────────────────┼────────────────────────┼───────────────┤\n",
       "│ batch_normalization             │ (<span style=\"color: #00d7ff; text-decoration-color: #00d7ff\">None</span>, <span style=\"color: #00af00; text-decoration-color: #00af00\">256</span>)            │         <span style=\"color: #00af00; text-decoration-color: #00af00\">1,024</span> │\n",
       "│ (<span style=\"color: #0087ff; text-decoration-color: #0087ff\">BatchNormalization</span>)            │                        │               │\n",
       "├─────────────────────────────────┼────────────────────────┼───────────────┤\n",
       "│ leaky_re_lu (<span style=\"color: #0087ff; text-decoration-color: #0087ff\">LeakyReLU</span>)         │ (<span style=\"color: #00d7ff; text-decoration-color: #00d7ff\">None</span>, <span style=\"color: #00af00; text-decoration-color: #00af00\">256</span>)            │             <span style=\"color: #00af00; text-decoration-color: #00af00\">0</span> │\n",
       "├─────────────────────────────────┼────────────────────────┼───────────────┤\n",
       "│ dropout (<span style=\"color: #0087ff; text-decoration-color: #0087ff\">Dropout</span>)               │ (<span style=\"color: #00d7ff; text-decoration-color: #00d7ff\">None</span>, <span style=\"color: #00af00; text-decoration-color: #00af00\">256</span>)            │             <span style=\"color: #00af00; text-decoration-color: #00af00\">0</span> │\n",
       "├─────────────────────────────────┼────────────────────────┼───────────────┤\n",
       "│ dense_1 (<span style=\"color: #0087ff; text-decoration-color: #0087ff\">Dense</span>)                 │ (<span style=\"color: #00d7ff; text-decoration-color: #00d7ff\">None</span>, <span style=\"color: #00af00; text-decoration-color: #00af00\">128</span>)            │        <span style=\"color: #00af00; text-decoration-color: #00af00\">32,896</span> │\n",
       "├─────────────────────────────────┼────────────────────────┼───────────────┤\n",
       "│ batch_normalization_1           │ (<span style=\"color: #00d7ff; text-decoration-color: #00d7ff\">None</span>, <span style=\"color: #00af00; text-decoration-color: #00af00\">128</span>)            │           <span style=\"color: #00af00; text-decoration-color: #00af00\">512</span> │\n",
       "│ (<span style=\"color: #0087ff; text-decoration-color: #0087ff\">BatchNormalization</span>)            │                        │               │\n",
       "├─────────────────────────────────┼────────────────────────┼───────────────┤\n",
       "│ leaky_re_lu_1 (<span style=\"color: #0087ff; text-decoration-color: #0087ff\">LeakyReLU</span>)       │ (<span style=\"color: #00d7ff; text-decoration-color: #00d7ff\">None</span>, <span style=\"color: #00af00; text-decoration-color: #00af00\">128</span>)            │             <span style=\"color: #00af00; text-decoration-color: #00af00\">0</span> │\n",
       "├─────────────────────────────────┼────────────────────────┼───────────────┤\n",
       "│ dropout_1 (<span style=\"color: #0087ff; text-decoration-color: #0087ff\">Dropout</span>)             │ (<span style=\"color: #00d7ff; text-decoration-color: #00d7ff\">None</span>, <span style=\"color: #00af00; text-decoration-color: #00af00\">128</span>)            │             <span style=\"color: #00af00; text-decoration-color: #00af00\">0</span> │\n",
       "├─────────────────────────────────┼────────────────────────┼───────────────┤\n",
       "│ dense_2 (<span style=\"color: #0087ff; text-decoration-color: #0087ff\">Dense</span>)                 │ (<span style=\"color: #00d7ff; text-decoration-color: #00d7ff\">None</span>, <span style=\"color: #00af00; text-decoration-color: #00af00\">64</span>)             │         <span style=\"color: #00af00; text-decoration-color: #00af00\">8,256</span> │\n",
       "├─────────────────────────────────┼────────────────────────┼───────────────┤\n",
       "│ batch_normalization_2           │ (<span style=\"color: #00d7ff; text-decoration-color: #00d7ff\">None</span>, <span style=\"color: #00af00; text-decoration-color: #00af00\">64</span>)             │           <span style=\"color: #00af00; text-decoration-color: #00af00\">256</span> │\n",
       "│ (<span style=\"color: #0087ff; text-decoration-color: #0087ff\">BatchNormalization</span>)            │                        │               │\n",
       "├─────────────────────────────────┼────────────────────────┼───────────────┤\n",
       "│ leaky_re_lu_2 (<span style=\"color: #0087ff; text-decoration-color: #0087ff\">LeakyReLU</span>)       │ (<span style=\"color: #00d7ff; text-decoration-color: #00d7ff\">None</span>, <span style=\"color: #00af00; text-decoration-color: #00af00\">64</span>)             │             <span style=\"color: #00af00; text-decoration-color: #00af00\">0</span> │\n",
       "├─────────────────────────────────┼────────────────────────┼───────────────┤\n",
       "│ dropout_2 (<span style=\"color: #0087ff; text-decoration-color: #0087ff\">Dropout</span>)             │ (<span style=\"color: #00d7ff; text-decoration-color: #00d7ff\">None</span>, <span style=\"color: #00af00; text-decoration-color: #00af00\">64</span>)             │             <span style=\"color: #00af00; text-decoration-color: #00af00\">0</span> │\n",
       "├─────────────────────────────────┼────────────────────────┼───────────────┤\n",
       "│ dense_3 (<span style=\"color: #0087ff; text-decoration-color: #0087ff\">Dense</span>)                 │ (<span style=\"color: #00d7ff; text-decoration-color: #00d7ff\">None</span>, <span style=\"color: #00af00; text-decoration-color: #00af00\">32</span>)             │         <span style=\"color: #00af00; text-decoration-color: #00af00\">2,080</span> │\n",
       "├─────────────────────────────────┼────────────────────────┼───────────────┤\n",
       "│ dense_4 (<span style=\"color: #0087ff; text-decoration-color: #0087ff\">Dense</span>)                 │ (<span style=\"color: #00d7ff; text-decoration-color: #00d7ff\">None</span>, <span style=\"color: #00af00; text-decoration-color: #00af00\">1</span>)              │            <span style=\"color: #00af00; text-decoration-color: #00af00\">33</span> │\n",
       "└─────────────────────────────────┴────────────────────────┴───────────────┘\n",
       "</pre>\n"
      ],
      "text/plain": [
       "┏━━━━━━━━━━━━━━━━━━━━━━━━━━━━━━━━━┳━━━━━━━━━━━━━━━━━━━━━━━━┳━━━━━━━━━━━━━━━┓\n",
       "┃\u001b[1m \u001b[0m\u001b[1mLayer (type)                   \u001b[0m\u001b[1m \u001b[0m┃\u001b[1m \u001b[0m\u001b[1mOutput Shape          \u001b[0m\u001b[1m \u001b[0m┃\u001b[1m \u001b[0m\u001b[1m      Param #\u001b[0m\u001b[1m \u001b[0m┃\n",
       "┡━━━━━━━━━━━━━━━━━━━━━━━━━━━━━━━━━╇━━━━━━━━━━━━━━━━━━━━━━━━╇━━━━━━━━━━━━━━━┩\n",
       "│ dense (\u001b[38;5;33mDense\u001b[0m)                   │ (\u001b[38;5;45mNone\u001b[0m, \u001b[38;5;34m256\u001b[0m)            │         \u001b[38;5;34m2,048\u001b[0m │\n",
       "├─────────────────────────────────┼────────────────────────┼───────────────┤\n",
       "│ batch_normalization             │ (\u001b[38;5;45mNone\u001b[0m, \u001b[38;5;34m256\u001b[0m)            │         \u001b[38;5;34m1,024\u001b[0m │\n",
       "│ (\u001b[38;5;33mBatchNormalization\u001b[0m)            │                        │               │\n",
       "├─────────────────────────────────┼────────────────────────┼───────────────┤\n",
       "│ leaky_re_lu (\u001b[38;5;33mLeakyReLU\u001b[0m)         │ (\u001b[38;5;45mNone\u001b[0m, \u001b[38;5;34m256\u001b[0m)            │             \u001b[38;5;34m0\u001b[0m │\n",
       "├─────────────────────────────────┼────────────────────────┼───────────────┤\n",
       "│ dropout (\u001b[38;5;33mDropout\u001b[0m)               │ (\u001b[38;5;45mNone\u001b[0m, \u001b[38;5;34m256\u001b[0m)            │             \u001b[38;5;34m0\u001b[0m │\n",
       "├─────────────────────────────────┼────────────────────────┼───────────────┤\n",
       "│ dense_1 (\u001b[38;5;33mDense\u001b[0m)                 │ (\u001b[38;5;45mNone\u001b[0m, \u001b[38;5;34m128\u001b[0m)            │        \u001b[38;5;34m32,896\u001b[0m │\n",
       "├─────────────────────────────────┼────────────────────────┼───────────────┤\n",
       "│ batch_normalization_1           │ (\u001b[38;5;45mNone\u001b[0m, \u001b[38;5;34m128\u001b[0m)            │           \u001b[38;5;34m512\u001b[0m │\n",
       "│ (\u001b[38;5;33mBatchNormalization\u001b[0m)            │                        │               │\n",
       "├─────────────────────────────────┼────────────────────────┼───────────────┤\n",
       "│ leaky_re_lu_1 (\u001b[38;5;33mLeakyReLU\u001b[0m)       │ (\u001b[38;5;45mNone\u001b[0m, \u001b[38;5;34m128\u001b[0m)            │             \u001b[38;5;34m0\u001b[0m │\n",
       "├─────────────────────────────────┼────────────────────────┼───────────────┤\n",
       "│ dropout_1 (\u001b[38;5;33mDropout\u001b[0m)             │ (\u001b[38;5;45mNone\u001b[0m, \u001b[38;5;34m128\u001b[0m)            │             \u001b[38;5;34m0\u001b[0m │\n",
       "├─────────────────────────────────┼────────────────────────┼───────────────┤\n",
       "│ dense_2 (\u001b[38;5;33mDense\u001b[0m)                 │ (\u001b[38;5;45mNone\u001b[0m, \u001b[38;5;34m64\u001b[0m)             │         \u001b[38;5;34m8,256\u001b[0m │\n",
       "├─────────────────────────────────┼────────────────────────┼───────────────┤\n",
       "│ batch_normalization_2           │ (\u001b[38;5;45mNone\u001b[0m, \u001b[38;5;34m64\u001b[0m)             │           \u001b[38;5;34m256\u001b[0m │\n",
       "│ (\u001b[38;5;33mBatchNormalization\u001b[0m)            │                        │               │\n",
       "├─────────────────────────────────┼────────────────────────┼───────────────┤\n",
       "│ leaky_re_lu_2 (\u001b[38;5;33mLeakyReLU\u001b[0m)       │ (\u001b[38;5;45mNone\u001b[0m, \u001b[38;5;34m64\u001b[0m)             │             \u001b[38;5;34m0\u001b[0m │\n",
       "├─────────────────────────────────┼────────────────────────┼───────────────┤\n",
       "│ dropout_2 (\u001b[38;5;33mDropout\u001b[0m)             │ (\u001b[38;5;45mNone\u001b[0m, \u001b[38;5;34m64\u001b[0m)             │             \u001b[38;5;34m0\u001b[0m │\n",
       "├─────────────────────────────────┼────────────────────────┼───────────────┤\n",
       "│ dense_3 (\u001b[38;5;33mDense\u001b[0m)                 │ (\u001b[38;5;45mNone\u001b[0m, \u001b[38;5;34m32\u001b[0m)             │         \u001b[38;5;34m2,080\u001b[0m │\n",
       "├─────────────────────────────────┼────────────────────────┼───────────────┤\n",
       "│ dense_4 (\u001b[38;5;33mDense\u001b[0m)                 │ (\u001b[38;5;45mNone\u001b[0m, \u001b[38;5;34m1\u001b[0m)              │            \u001b[38;5;34m33\u001b[0m │\n",
       "└─────────────────────────────────┴────────────────────────┴───────────────┘\n"
      ]
     },
     "metadata": {},
     "output_type": "display_data"
    },
    {
     "data": {
      "text/html": [
       "<pre style=\"white-space:pre;overflow-x:auto;line-height:normal;font-family:Menlo,'DejaVu Sans Mono',consolas,'Courier New',monospace\"><span style=\"font-weight: bold\"> Total params: </span><span style=\"color: #00af00; text-decoration-color: #00af00\">47,105</span> (184.00 KB)\n",
       "</pre>\n"
      ],
      "text/plain": [
       "\u001b[1m Total params: \u001b[0m\u001b[38;5;34m47,105\u001b[0m (184.00 KB)\n"
      ]
     },
     "metadata": {},
     "output_type": "display_data"
    },
    {
     "data": {
      "text/html": [
       "<pre style=\"white-space:pre;overflow-x:auto;line-height:normal;font-family:Menlo,'DejaVu Sans Mono',consolas,'Courier New',monospace\"><span style=\"font-weight: bold\"> Trainable params: </span><span style=\"color: #00af00; text-decoration-color: #00af00\">46,209</span> (180.50 KB)\n",
       "</pre>\n"
      ],
      "text/plain": [
       "\u001b[1m Trainable params: \u001b[0m\u001b[38;5;34m46,209\u001b[0m (180.50 KB)\n"
      ]
     },
     "metadata": {},
     "output_type": "display_data"
    },
    {
     "data": {
      "text/html": [
       "<pre style=\"white-space:pre;overflow-x:auto;line-height:normal;font-family:Menlo,'DejaVu Sans Mono',consolas,'Courier New',monospace\"><span style=\"font-weight: bold\"> Non-trainable params: </span><span style=\"color: #00af00; text-decoration-color: #00af00\">896</span> (3.50 KB)\n",
       "</pre>\n"
      ],
      "text/plain": [
       "\u001b[1m Non-trainable params: \u001b[0m\u001b[38;5;34m896\u001b[0m (3.50 KB)\n"
      ]
     },
     "metadata": {},
     "output_type": "display_data"
    }
   ],
   "source": [
    "model = tf.keras.models.Sequential([\n",
    "    tf.keras.layers.Input(shape=(X_train.shape[1],)),\n",
    "    \n",
    "    tf.keras.layers.Dense(256),\n",
    "    tf.keras.layers.BatchNormalization(),\n",
    "    tf.keras.layers.LeakyReLU(negative_slope=0.1),\n",
    "    tf.keras.layers.Dropout(0.4),\n",
    "    \n",
    "    tf.keras.layers.Dense(128),\n",
    "    tf.keras.layers.BatchNormalization(),\n",
    "    tf.keras.layers.LeakyReLU(negative_slope=0.1),\n",
    "    tf.keras.layers.Dropout(0.3),\n",
    "    \n",
    "    tf.keras.layers.Dense(64),\n",
    "    tf.keras.layers.BatchNormalization(),\n",
    "    tf.keras.layers.LeakyReLU(negative_slope=0.1),\n",
    "    tf.keras.layers.Dropout(0.3),\n",
    "    \n",
    "    tf.keras.layers.Dense(32, activation='relu'),\n",
    "    \n",
    "    tf.keras.layers.Dense(1, activation='relu')\n",
    "])\n",
    "\n",
    "model.compile(\n",
    "    optimizer=tf.keras.optimizers.Adam(learning_rate=0.0005),\n",
    "    loss='mean_squared_error',\n",
    "    metrics=['mae']\n",
    ")\n",
    "\n",
    "model.summary()\n"
   ]
  },
  {
   "cell_type": "code",
   "execution_count": 12,
   "metadata": {
    "colab": {
     "base_uri": "https://localhost:8080/"
    },
    "id": "-pT8LeQdt3Q_",
    "outputId": "e6d88e94-fd34-4b6f-f71f-79ade0960475"
   },
   "outputs": [
    {
     "name": "stdout",
     "output_type": "stream",
     "text": [
      "Epoch 1/100\n",
      "\u001b[1m220/220\u001b[0m \u001b[32m━━━━━━━━━━━━━━━━━━━━\u001b[0m\u001b[37m\u001b[0m \u001b[1m2s\u001b[0m 2ms/step - loss: 78363.1484 - mae: 224.3113 - val_loss: 47827.9805 - val_mae: 189.1000 - learning_rate: 5.0000e-04\n",
      "Epoch 2/100\n",
      "\u001b[1m220/220\u001b[0m \u001b[32m━━━━━━━━━━━━━━━━━━━━\u001b[0m\u001b[37m\u001b[0m \u001b[1m0s\u001b[0m 1ms/step - loss: 42436.3281 - mae: 172.3673 - val_loss: 12803.2754 - val_mae: 104.0765 - learning_rate: 5.0000e-04\n",
      "Epoch 3/100\n",
      "\u001b[1m220/220\u001b[0m \u001b[32m━━━━━━━━━━━━━━━━━━━━\u001b[0m\u001b[37m\u001b[0m \u001b[1m0s\u001b[0m 1ms/step - loss: 10179.9277 - mae: 84.0969 - val_loss: 3768.3872 - val_mae: 48.0403 - learning_rate: 5.0000e-04\n",
      "Epoch 4/100\n",
      "\u001b[1m220/220\u001b[0m \u001b[32m━━━━━━━━━━━━━━━━━━━━\u001b[0m\u001b[37m\u001b[0m \u001b[1m0s\u001b[0m 1ms/step - loss: 3723.5989 - mae: 47.6345 - val_loss: 1021.8674 - val_mae: 25.6282 - learning_rate: 5.0000e-04\n",
      "Epoch 5/100\n",
      "\u001b[1m220/220\u001b[0m \u001b[32m━━━━━━━━━━━━━━━━━━━━\u001b[0m\u001b[37m\u001b[0m \u001b[1m0s\u001b[0m 1ms/step - loss: 3303.3425 - mae: 41.6522 - val_loss: 359.9255 - val_mae: 14.7280 - learning_rate: 5.0000e-04\n",
      "Epoch 6/100\n",
      "\u001b[1m220/220\u001b[0m \u001b[32m━━━━━━━━━━━━━━━━━━━━\u001b[0m\u001b[37m\u001b[0m \u001b[1m0s\u001b[0m 1ms/step - loss: 2682.6384 - mae: 37.2466 - val_loss: 259.9093 - val_mae: 11.6379 - learning_rate: 5.0000e-04\n",
      "Epoch 7/100\n",
      "\u001b[1m220/220\u001b[0m \u001b[32m━━━━━━━━━━━━━━━━━━━━\u001b[0m\u001b[37m\u001b[0m \u001b[1m0s\u001b[0m 1ms/step - loss: 3006.6787 - mae: 39.1730 - val_loss: 283.9423 - val_mae: 11.8513 - learning_rate: 5.0000e-04\n",
      "Epoch 8/100\n",
      "\u001b[1m220/220\u001b[0m \u001b[32m━━━━━━━━━━━━━━━━━━━━\u001b[0m\u001b[37m\u001b[0m \u001b[1m0s\u001b[0m 1ms/step - loss: 2758.4487 - mae: 37.6357 - val_loss: 279.7339 - val_mae: 12.0589 - learning_rate: 5.0000e-04\n",
      "Epoch 9/100\n",
      "\u001b[1m220/220\u001b[0m \u001b[32m━━━━━━━━━━━━━━━━━━━━\u001b[0m\u001b[37m\u001b[0m \u001b[1m0s\u001b[0m 1ms/step - loss: 2739.3176 - mae: 38.4761 - val_loss: 217.4786 - val_mae: 9.8690 - learning_rate: 5.0000e-04\n",
      "Epoch 10/100\n",
      "\u001b[1m220/220\u001b[0m \u001b[32m━━━━━━━━━━━━━━━━━━━━\u001b[0m\u001b[37m\u001b[0m \u001b[1m0s\u001b[0m 1ms/step - loss: 2346.0569 - mae: 35.3248 - val_loss: 257.3809 - val_mae: 10.9615 - learning_rate: 5.0000e-04\n",
      "Epoch 11/100\n",
      "\u001b[1m220/220\u001b[0m \u001b[32m━━━━━━━━━━━━━━━━━━━━\u001b[0m\u001b[37m\u001b[0m \u001b[1m0s\u001b[0m 1ms/step - loss: 2514.5151 - mae: 36.2793 - val_loss: 216.7774 - val_mae: 10.0037 - learning_rate: 5.0000e-04\n",
      "Epoch 12/100\n",
      "\u001b[1m220/220\u001b[0m \u001b[32m━━━━━━━━━━━━━━━━━━━━\u001b[0m\u001b[37m\u001b[0m \u001b[1m0s\u001b[0m 1ms/step - loss: 2500.4722 - mae: 36.1759 - val_loss: 317.3188 - val_mae: 12.6318 - learning_rate: 5.0000e-04\n",
      "Epoch 13/100\n",
      "\u001b[1m220/220\u001b[0m \u001b[32m━━━━━━━━━━━━━━━━━━━━\u001b[0m\u001b[37m\u001b[0m \u001b[1m0s\u001b[0m 1ms/step - loss: 2469.7825 - mae: 36.4506 - val_loss: 271.4553 - val_mae: 10.5664 - learning_rate: 5.0000e-04\n",
      "Epoch 14/100\n",
      "\u001b[1m220/220\u001b[0m \u001b[32m━━━━━━━━━━━━━━━━━━━━\u001b[0m\u001b[37m\u001b[0m \u001b[1m0s\u001b[0m 1ms/step - loss: 2283.0383 - mae: 34.2747 - val_loss: 212.6648 - val_mae: 9.4924 - learning_rate: 5.0000e-04\n",
      "Epoch 15/100\n",
      "\u001b[1m220/220\u001b[0m \u001b[32m━━━━━━━━━━━━━━━━━━━━\u001b[0m\u001b[37m\u001b[0m \u001b[1m0s\u001b[0m 1ms/step - loss: 2494.5598 - mae: 35.7878 - val_loss: 204.2926 - val_mae: 9.2404 - learning_rate: 5.0000e-04\n",
      "Epoch 16/100\n",
      "\u001b[1m220/220\u001b[0m \u001b[32m━━━━━━━━━━━━━━━━━━━━\u001b[0m\u001b[37m\u001b[0m \u001b[1m0s\u001b[0m 1ms/step - loss: 2508.5510 - mae: 36.7836 - val_loss: 199.5105 - val_mae: 9.4055 - learning_rate: 5.0000e-04\n",
      "Epoch 17/100\n",
      "\u001b[1m220/220\u001b[0m \u001b[32m━━━━━━━━━━━━━━━━━━━━\u001b[0m\u001b[37m\u001b[0m \u001b[1m0s\u001b[0m 1ms/step - loss: 2421.9863 - mae: 35.7365 - val_loss: 251.3669 - val_mae: 10.6771 - learning_rate: 5.0000e-04\n",
      "Epoch 18/100\n",
      "\u001b[1m220/220\u001b[0m \u001b[32m━━━━━━━━━━━━━━━━━━━━\u001b[0m\u001b[37m\u001b[0m \u001b[1m0s\u001b[0m 1ms/step - loss: 2214.0364 - mae: 33.8593 - val_loss: 200.1083 - val_mae: 9.0430 - learning_rate: 5.0000e-04\n",
      "Epoch 19/100\n",
      "\u001b[1m220/220\u001b[0m \u001b[32m━━━━━━━━━━━━━━━━━━━━\u001b[0m\u001b[37m\u001b[0m \u001b[1m0s\u001b[0m 1ms/step - loss: 2475.1255 - mae: 36.1434 - val_loss: 204.8032 - val_mae: 9.5797 - learning_rate: 5.0000e-04\n",
      "Epoch 20/100\n",
      "\u001b[1m220/220\u001b[0m \u001b[32m━━━━━━━━━━━━━━━━━━━━\u001b[0m\u001b[37m\u001b[0m \u001b[1m0s\u001b[0m 1ms/step - loss: 2499.5544 - mae: 35.8152 - val_loss: 259.1519 - val_mae: 11.1423 - learning_rate: 5.0000e-04\n",
      "Epoch 21/100\n",
      "\u001b[1m220/220\u001b[0m \u001b[32m━━━━━━━━━━━━━━━━━━━━\u001b[0m\u001b[37m\u001b[0m \u001b[1m0s\u001b[0m 1ms/step - loss: 2212.4072 - mae: 33.8418 - val_loss: 240.0486 - val_mae: 10.3441 - learning_rate: 5.0000e-04\n",
      "Epoch 22/100\n",
      "\u001b[1m220/220\u001b[0m \u001b[32m━━━━━━━━━━━━━━━━━━━━\u001b[0m\u001b[37m\u001b[0m \u001b[1m0s\u001b[0m 1ms/step - loss: 2264.8398 - mae: 34.6445 - val_loss: 247.0721 - val_mae: 10.1512 - learning_rate: 5.0000e-04\n",
      "Epoch 23/100\n",
      "\u001b[1m220/220\u001b[0m \u001b[32m━━━━━━━━━━━━━━━━━━━━\u001b[0m\u001b[37m\u001b[0m \u001b[1m0s\u001b[0m 1ms/step - loss: 2144.2451 - mae: 34.6560 - val_loss: 186.8690 - val_mae: 8.7796 - learning_rate: 5.0000e-04\n",
      "Epoch 24/100\n",
      "\u001b[1m220/220\u001b[0m \u001b[32m━━━━━━━━━━━━━━━━━━━━\u001b[0m\u001b[37m\u001b[0m \u001b[1m0s\u001b[0m 1ms/step - loss: 2354.6121 - mae: 34.9249 - val_loss: 233.9504 - val_mae: 9.5994 - learning_rate: 5.0000e-04\n",
      "Epoch 25/100\n",
      "\u001b[1m220/220\u001b[0m \u001b[32m━━━━━━━━━━━━━━━━━━━━\u001b[0m\u001b[37m\u001b[0m \u001b[1m0s\u001b[0m 1ms/step - loss: 2269.2285 - mae: 35.1429 - val_loss: 211.4182 - val_mae: 9.0776 - learning_rate: 5.0000e-04\n",
      "Epoch 26/100\n",
      "\u001b[1m220/220\u001b[0m \u001b[32m━━━━━━━━━━━━━━━━━━━━\u001b[0m\u001b[37m\u001b[0m \u001b[1m0s\u001b[0m 1ms/step - loss: 2095.7285 - mae: 33.0966 - val_loss: 218.6854 - val_mae: 8.9039 - learning_rate: 5.0000e-04\n",
      "Epoch 27/100\n",
      "\u001b[1m220/220\u001b[0m \u001b[32m━━━━━━━━━━━━━━━━━━━━\u001b[0m\u001b[37m\u001b[0m \u001b[1m0s\u001b[0m 1ms/step - loss: 2095.3081 - mae: 34.4508 - val_loss: 190.1536 - val_mae: 8.5537 - learning_rate: 5.0000e-04\n",
      "Epoch 28/100\n",
      "\u001b[1m220/220\u001b[0m \u001b[32m━━━━━━━━━━━━━━━━━━━━\u001b[0m\u001b[37m\u001b[0m \u001b[1m0s\u001b[0m 1ms/step - loss: 1986.4830 - mae: 32.7687 - val_loss: 195.7691 - val_mae: 8.7975 - learning_rate: 5.0000e-04\n",
      "Epoch 29/100\n",
      "\u001b[1m220/220\u001b[0m \u001b[32m━━━━━━━━━━━━━━━━━━━━\u001b[0m\u001b[37m\u001b[0m \u001b[1m0s\u001b[0m 1ms/step - loss: 2041.8599 - mae: 32.9299 - val_loss: 296.3755 - val_mae: 11.2058 - learning_rate: 5.0000e-04\n",
      "Epoch 30/100\n",
      "\u001b[1m220/220\u001b[0m \u001b[32m━━━━━━━━━━━━━━━━━━━━\u001b[0m\u001b[37m\u001b[0m \u001b[1m0s\u001b[0m 1ms/step - loss: 2308.3179 - mae: 35.2864 - val_loss: 236.0721 - val_mae: 10.3905 - learning_rate: 5.0000e-04\n",
      "Epoch 31/100\n",
      "\u001b[1m220/220\u001b[0m \u001b[32m━━━━━━━━━━━━━━━━━━━━\u001b[0m\u001b[37m\u001b[0m \u001b[1m0s\u001b[0m 1ms/step - loss: 2211.3091 - mae: 34.9000 - val_loss: 170.1801 - val_mae: 7.8288 - learning_rate: 5.0000e-04\n",
      "Epoch 32/100\n",
      "\u001b[1m220/220\u001b[0m \u001b[32m━━━━━━━━━━━━━━━━━━━━\u001b[0m\u001b[37m\u001b[0m \u001b[1m0s\u001b[0m 1ms/step - loss: 2303.4631 - mae: 35.7947 - val_loss: 224.9365 - val_mae: 9.4868 - learning_rate: 5.0000e-04\n",
      "Epoch 33/100\n",
      "\u001b[1m220/220\u001b[0m \u001b[32m━━━━━━━━━━━━━━━━━━━━\u001b[0m\u001b[37m\u001b[0m \u001b[1m0s\u001b[0m 1ms/step - loss: 2008.2240 - mae: 33.2270 - val_loss: 212.1087 - val_mae: 9.5519 - learning_rate: 5.0000e-04\n",
      "Epoch 34/100\n",
      "\u001b[1m220/220\u001b[0m \u001b[32m━━━━━━━━━━━━━━━━━━━━\u001b[0m\u001b[37m\u001b[0m \u001b[1m0s\u001b[0m 1ms/step - loss: 2006.4404 - mae: 33.1003 - val_loss: 194.5157 - val_mae: 9.4236 - learning_rate: 5.0000e-04\n",
      "Epoch 35/100\n",
      "\u001b[1m220/220\u001b[0m \u001b[32m━━━━━━━━━━━━━━━━━━━━\u001b[0m\u001b[37m\u001b[0m \u001b[1m0s\u001b[0m 1ms/step - loss: 2216.8521 - mae: 34.4617 - val_loss: 217.9262 - val_mae: 8.9765 - learning_rate: 5.0000e-04\n",
      "Epoch 36/100\n",
      "\u001b[1m220/220\u001b[0m \u001b[32m━━━━━━━━━━━━━━━━━━━━\u001b[0m\u001b[37m\u001b[0m \u001b[1m0s\u001b[0m 1ms/step - loss: 2068.1868 - mae: 33.2065 - val_loss: 192.4090 - val_mae: 8.8381 - learning_rate: 5.0000e-04\n",
      "Epoch 37/100\n",
      "\u001b[1m220/220\u001b[0m \u001b[32m━━━━━━━━━━━━━━━━━━━━\u001b[0m\u001b[37m\u001b[0m \u001b[1m0s\u001b[0m 1ms/step - loss: 2183.1968 - mae: 34.0185 - val_loss: 173.7131 - val_mae: 8.5084 - learning_rate: 5.0000e-04\n",
      "Epoch 38/100\n",
      "\u001b[1m220/220\u001b[0m \u001b[32m━━━━━━━━━━━━━━━━━━━━\u001b[0m\u001b[37m\u001b[0m \u001b[1m0s\u001b[0m 1ms/step - loss: 2038.0909 - mae: 33.1361 - val_loss: 257.4502 - val_mae: 10.1327 - learning_rate: 5.0000e-04\n",
      "Epoch 39/100\n",
      "\u001b[1m220/220\u001b[0m \u001b[32m━━━━━━━━━━━━━━━━━━━━\u001b[0m\u001b[37m\u001b[0m \u001b[1m0s\u001b[0m 1ms/step - loss: 2113.3765 - mae: 34.0408 - val_loss: 382.3137 - val_mae: 11.8763 - learning_rate: 5.0000e-04\n",
      "Epoch 40/100\n",
      "\u001b[1m220/220\u001b[0m \u001b[32m━━━━━━━━━━━━━━━━━━━━\u001b[0m\u001b[37m\u001b[0m \u001b[1m0s\u001b[0m 1ms/step - loss: 1746.6432 - mae: 30.9935 - val_loss: 183.0379 - val_mae: 8.7901 - learning_rate: 5.0000e-04\n",
      "Epoch 41/100\n",
      "\u001b[1m220/220\u001b[0m \u001b[32m━━━━━━━━━━━━━━━━━━━━\u001b[0m\u001b[37m\u001b[0m \u001b[1m0s\u001b[0m 1ms/step - loss: 1936.6096 - mae: 32.0849 - val_loss: 258.0432 - val_mae: 10.8299 - learning_rate: 5.0000e-04\n",
      "Epoch 42/100\n",
      "\u001b[1m220/220\u001b[0m \u001b[32m━━━━━━━━━━━━━━━━━━━━\u001b[0m\u001b[37m\u001b[0m \u001b[1m0s\u001b[0m 1ms/step - loss: 2070.8687 - mae: 33.9413 - val_loss: 214.2444 - val_mae: 10.1436 - learning_rate: 5.0000e-04\n",
      "Epoch 43/100\n",
      "\u001b[1m220/220\u001b[0m \u001b[32m━━━━━━━━━━━━━━━━━━━━\u001b[0m\u001b[37m\u001b[0m \u001b[1m0s\u001b[0m 1ms/step - loss: 1927.6177 - mae: 32.4661 - val_loss: 219.6168 - val_mae: 9.9692 - learning_rate: 5.0000e-04\n",
      "Epoch 44/100\n",
      "\u001b[1m220/220\u001b[0m \u001b[32m━━━━━━━━━━━━━━━━━━━━\u001b[0m\u001b[37m\u001b[0m \u001b[1m0s\u001b[0m 1ms/step - loss: 1970.5270 - mae: 32.3368 - val_loss: 335.7377 - val_mae: 11.3261 - learning_rate: 5.0000e-04\n",
      "Epoch 45/100\n",
      "\u001b[1m220/220\u001b[0m \u001b[32m━━━━━━━━━━━━━━━━━━━━\u001b[0m\u001b[37m\u001b[0m \u001b[1m0s\u001b[0m 1ms/step - loss: 1927.5088 - mae: 32.0727 - val_loss: 269.3527 - val_mae: 10.7151 - learning_rate: 5.0000e-04\n",
      "Epoch 46/100\n",
      "\u001b[1m220/220\u001b[0m \u001b[32m━━━━━━━━━━━━━━━━━━━━\u001b[0m\u001b[37m\u001b[0m \u001b[1m0s\u001b[0m 2ms/step - loss: 1723.8922 - mae: 30.9775 - val_loss: 303.5426 - val_mae: 11.0114 - learning_rate: 5.0000e-04\n",
      "Epoch 47/100\n",
      "\u001b[1m220/220\u001b[0m \u001b[32m━━━━━━━━━━━━━━━━━━━━\u001b[0m\u001b[37m\u001b[0m \u001b[1m0s\u001b[0m 1ms/step - loss: 1834.5452 - mae: 31.5568 - val_loss: 283.2408 - val_mae: 10.8519 - learning_rate: 5.0000e-04\n",
      "Epoch 48/100\n",
      "\u001b[1m220/220\u001b[0m \u001b[32m━━━━━━━━━━━━━━━━━━━━\u001b[0m\u001b[37m\u001b[0m \u001b[1m0s\u001b[0m 2ms/step - loss: 1716.4668 - mae: 30.8397 - val_loss: 279.7711 - val_mae: 11.4397 - learning_rate: 5.0000e-04\n",
      "Epoch 49/100\n",
      "\u001b[1m220/220\u001b[0m \u001b[32m━━━━━━━━━━━━━━━━━━━━\u001b[0m\u001b[37m\u001b[0m \u001b[1m0s\u001b[0m 1ms/step - loss: 1894.3715 - mae: 31.9028 - val_loss: 268.2878 - val_mae: 11.5866 - learning_rate: 5.0000e-04\n",
      "Epoch 50/100\n",
      "\u001b[1m220/220\u001b[0m \u001b[32m━━━━━━━━━━━━━━━━━━━━\u001b[0m\u001b[37m\u001b[0m \u001b[1m0s\u001b[0m 1ms/step - loss: 1864.0956 - mae: 31.4616 - val_loss: 353.8381 - val_mae: 11.7103 - learning_rate: 5.0000e-04\n",
      "Epoch 51/100\n",
      "\u001b[1m220/220\u001b[0m \u001b[32m━━━━━━━━━━━━━━━━━━━━\u001b[0m\u001b[37m\u001b[0m \u001b[1m0s\u001b[0m 1ms/step - loss: 1842.5985 - mae: 31.6813 - val_loss: 259.1928 - val_mae: 10.1191 - learning_rate: 5.0000e-04\n",
      "Epoch 52/100\n",
      "\u001b[1m220/220\u001b[0m \u001b[32m━━━━━━━━━━━━━━━━━━━━\u001b[0m\u001b[37m\u001b[0m \u001b[1m0s\u001b[0m 1ms/step - loss: 1696.4265 - mae: 30.9107 - val_loss: 368.7810 - val_mae: 12.7932 - learning_rate: 5.0000e-04\n",
      "Epoch 53/100\n",
      "\u001b[1m220/220\u001b[0m \u001b[32m━━━━━━━━━━━━━━━━━━━━\u001b[0m\u001b[37m\u001b[0m \u001b[1m0s\u001b[0m 1ms/step - loss: 1698.2435 - mae: 30.4478 - val_loss: 285.3084 - val_mae: 11.1056 - learning_rate: 5.0000e-04\n",
      "Epoch 54/100\n",
      "\u001b[1m220/220\u001b[0m \u001b[32m━━━━━━━━━━━━━━━━━━━━\u001b[0m\u001b[37m\u001b[0m \u001b[1m0s\u001b[0m 1ms/step - loss: 1980.8286 - mae: 32.6589 - val_loss: 206.1167 - val_mae: 9.3605 - learning_rate: 5.0000e-04\n",
      "Epoch 55/100\n",
      "\u001b[1m220/220\u001b[0m \u001b[32m━━━━━━━━━━━━━━━━━━━━\u001b[0m\u001b[37m\u001b[0m \u001b[1m0s\u001b[0m 1ms/step - loss: 1785.8440 - mae: 31.2162 - val_loss: 238.1206 - val_mae: 10.9822 - learning_rate: 5.0000e-04\n",
      "Epoch 56/100\n",
      "\u001b[1m220/220\u001b[0m \u001b[32m━━━━━━━━━━━━━━━━━━━━\u001b[0m\u001b[37m\u001b[0m \u001b[1m0s\u001b[0m 1ms/step - loss: 1867.8448 - mae: 31.5698 - val_loss: 270.9948 - val_mae: 10.4652 - learning_rate: 5.0000e-04\n",
      "Epoch 57/100\n",
      "\u001b[1m220/220\u001b[0m \u001b[32m━━━━━━━━━━━━━━━━━━━━\u001b[0m\u001b[37m\u001b[0m \u001b[1m0s\u001b[0m 1ms/step - loss: 1973.7638 - mae: 31.7792 - val_loss: 228.6166 - val_mae: 9.8979 - learning_rate: 5.0000e-04\n",
      "Epoch 58/100\n",
      "\u001b[1m220/220\u001b[0m \u001b[32m━━━━━━━━━━━━━━━━━━━━\u001b[0m\u001b[37m\u001b[0m \u001b[1m0s\u001b[0m 1ms/step - loss: 1660.2817 - mae: 29.8656 - val_loss: 267.5280 - val_mae: 11.3159 - learning_rate: 5.0000e-04\n",
      "Epoch 59/100\n",
      "\u001b[1m220/220\u001b[0m \u001b[32m━━━━━━━━━━━━━━━━━━━━\u001b[0m\u001b[37m\u001b[0m \u001b[1m0s\u001b[0m 1ms/step - loss: 1887.5449 - mae: 31.1596 - val_loss: 180.4792 - val_mae: 8.4869 - learning_rate: 5.0000e-04\n",
      "Epoch 60/100\n",
      "\u001b[1m220/220\u001b[0m \u001b[32m━━━━━━━━━━━━━━━━━━━━\u001b[0m\u001b[37m\u001b[0m \u001b[1m0s\u001b[0m 1ms/step - loss: 1720.1857 - mae: 30.7343 - val_loss: 159.2774 - val_mae: 7.1784 - learning_rate: 5.0000e-04\n",
      "Epoch 61/100\n",
      "\u001b[1m220/220\u001b[0m \u001b[32m━━━━━━━━━━━━━━━━━━━━\u001b[0m\u001b[37m\u001b[0m \u001b[1m0s\u001b[0m 1ms/step - loss: 1527.8143 - mae: 28.7116 - val_loss: 296.7131 - val_mae: 12.7020 - learning_rate: 5.0000e-04\n",
      "Epoch 62/100\n",
      "\u001b[1m220/220\u001b[0m \u001b[32m━━━━━━━━━━━━━━━━━━━━\u001b[0m\u001b[37m\u001b[0m \u001b[1m0s\u001b[0m 1ms/step - loss: 1816.9023 - mae: 31.5588 - val_loss: 255.0249 - val_mae: 10.3431 - learning_rate: 5.0000e-04\n",
      "Epoch 63/100\n",
      "\u001b[1m220/220\u001b[0m \u001b[32m━━━━━━━━━━━━━━━━━━━━\u001b[0m\u001b[37m\u001b[0m \u001b[1m0s\u001b[0m 1ms/step - loss: 2070.5847 - mae: 32.8790 - val_loss: 335.9601 - val_mae: 11.6367 - learning_rate: 5.0000e-04\n",
      "Epoch 64/100\n",
      "\u001b[1m220/220\u001b[0m \u001b[32m━━━━━━━━━━━━━━━━━━━━\u001b[0m\u001b[37m\u001b[0m \u001b[1m0s\u001b[0m 1ms/step - loss: 1617.5631 - mae: 29.5474 - val_loss: 217.4057 - val_mae: 9.1398 - learning_rate: 5.0000e-04\n",
      "Epoch 65/100\n",
      "\u001b[1m220/220\u001b[0m \u001b[32m━━━━━━━━━━━━━━━━━━━━\u001b[0m\u001b[37m\u001b[0m \u001b[1m0s\u001b[0m 1ms/step - loss: 1745.1340 - mae: 29.8158 - val_loss: 404.5585 - val_mae: 13.8383 - learning_rate: 5.0000e-04\n",
      "Epoch 66/100\n",
      "\u001b[1m220/220\u001b[0m \u001b[32m━━━━━━━━━━━━━━━━━━━━\u001b[0m\u001b[37m\u001b[0m \u001b[1m0s\u001b[0m 1ms/step - loss: 1617.2878 - mae: 28.8997 - val_loss: 392.6237 - val_mae: 11.8886 - learning_rate: 5.0000e-04\n",
      "Epoch 67/100\n",
      "\u001b[1m220/220\u001b[0m \u001b[32m━━━━━━━━━━━━━━━━━━━━\u001b[0m\u001b[37m\u001b[0m \u001b[1m0s\u001b[0m 1ms/step - loss: 1705.1598 - mae: 30.6492 - val_loss: 297.6462 - val_mae: 12.2061 - learning_rate: 5.0000e-04\n",
      "Epoch 68/100\n",
      "\u001b[1m220/220\u001b[0m \u001b[32m━━━━━━━━━━━━━━━━━━━━\u001b[0m\u001b[37m\u001b[0m \u001b[1m0s\u001b[0m 1ms/step - loss: 1575.9495 - mae: 29.0634 - val_loss: 172.4130 - val_mae: 7.8153 - learning_rate: 5.0000e-04\n",
      "Epoch 69/100\n",
      "\u001b[1m220/220\u001b[0m \u001b[32m━━━━━━━━━━━━━━━━━━━━\u001b[0m\u001b[37m\u001b[0m \u001b[1m0s\u001b[0m 1ms/step - loss: 1700.9777 - mae: 29.9454 - val_loss: 222.9560 - val_mae: 9.7466 - learning_rate: 5.0000e-04\n",
      "Epoch 70/100\n",
      "\u001b[1m220/220\u001b[0m \u001b[32m━━━━━━━━━━━━━━━━━━━━\u001b[0m\u001b[37m\u001b[0m \u001b[1m0s\u001b[0m 1ms/step - loss: 1646.3529 - mae: 29.6182 - val_loss: 349.7386 - val_mae: 12.7190 - learning_rate: 5.0000e-04\n",
      "Epoch 71/100\n",
      "\u001b[1m220/220\u001b[0m \u001b[32m━━━━━━━━━━━━━━━━━━━━\u001b[0m\u001b[37m\u001b[0m \u001b[1m0s\u001b[0m 1ms/step - loss: 1746.4521 - mae: 30.5000 - val_loss: 280.0914 - val_mae: 10.7920 - learning_rate: 5.0000e-04\n",
      "Epoch 72/100\n",
      "\u001b[1m220/220\u001b[0m \u001b[32m━━━━━━━━━━━━━━━━━━━━\u001b[0m\u001b[37m\u001b[0m \u001b[1m0s\u001b[0m 1ms/step - loss: 1626.9038 - mae: 29.0188 - val_loss: 242.7450 - val_mae: 9.7098 - learning_rate: 5.0000e-04\n",
      "Epoch 73/100\n",
      "\u001b[1m220/220\u001b[0m \u001b[32m━━━━━━━━━━━━━━━━━━━━\u001b[0m\u001b[37m\u001b[0m \u001b[1m0s\u001b[0m 1ms/step - loss: 1557.2828 - mae: 29.3691 - val_loss: 371.9050 - val_mae: 12.9063 - learning_rate: 5.0000e-04\n",
      "Epoch 74/100\n",
      "\u001b[1m220/220\u001b[0m \u001b[32m━━━━━━━━━━━━━━━━━━━━\u001b[0m\u001b[37m\u001b[0m \u001b[1m0s\u001b[0m 1ms/step - loss: 1599.1918 - mae: 29.4688 - val_loss: 308.7062 - val_mae: 11.7895 - learning_rate: 5.0000e-04\n",
      "Epoch 75/100\n",
      "\u001b[1m220/220\u001b[0m \u001b[32m━━━━━━━━━━━━━━━━━━━━\u001b[0m\u001b[37m\u001b[0m \u001b[1m0s\u001b[0m 1ms/step - loss: 1586.0111 - mae: 29.5235 - val_loss: 356.2506 - val_mae: 13.1762 - learning_rate: 5.0000e-04\n",
      "Epoch 76/100\n",
      "\u001b[1m220/220\u001b[0m \u001b[32m━━━━━━━━━━━━━━━━━━━━\u001b[0m\u001b[37m\u001b[0m \u001b[1m0s\u001b[0m 1ms/step - loss: 1612.9270 - mae: 29.5930 - val_loss: 301.3903 - val_mae: 11.8870 - learning_rate: 5.0000e-04\n",
      "Epoch 77/100\n",
      "\u001b[1m220/220\u001b[0m \u001b[32m━━━━━━━━━━━━━━━━━━━━\u001b[0m\u001b[37m\u001b[0m \u001b[1m0s\u001b[0m 1ms/step - loss: 1539.1984 - mae: 27.8087 - val_loss: 260.8672 - val_mae: 9.8464 - learning_rate: 5.0000e-04\n",
      "Epoch 78/100\n",
      "\u001b[1m220/220\u001b[0m \u001b[32m━━━━━━━━━━━━━━━━━━━━\u001b[0m\u001b[37m\u001b[0m \u001b[1m0s\u001b[0m 1ms/step - loss: 1672.8378 - mae: 29.6623 - val_loss: 242.6041 - val_mae: 10.4221 - learning_rate: 5.0000e-04\n",
      "Epoch 79/100\n",
      "\u001b[1m220/220\u001b[0m \u001b[32m━━━━━━━━━━━━━━━━━━━━\u001b[0m\u001b[37m\u001b[0m \u001b[1m0s\u001b[0m 1ms/step - loss: 1522.9763 - mae: 28.4930 - val_loss: 422.0066 - val_mae: 14.2872 - learning_rate: 5.0000e-04\n",
      "Epoch 80/100\n",
      "\u001b[1m220/220\u001b[0m \u001b[32m━━━━━━━━━━━━━━━━━━━━\u001b[0m\u001b[37m\u001b[0m \u001b[1m0s\u001b[0m 1ms/step - loss: 1773.1965 - mae: 30.0676 - val_loss: 323.7759 - val_mae: 10.8833 - learning_rate: 5.0000e-04\n",
      "Epoch 81/100\n",
      "\u001b[1m220/220\u001b[0m \u001b[32m━━━━━━━━━━━━━━━━━━━━\u001b[0m\u001b[37m\u001b[0m \u001b[1m0s\u001b[0m 1ms/step - loss: 1401.2012 - mae: 26.9275 - val_loss: 261.4782 - val_mae: 10.1357 - learning_rate: 5.0000e-04\n",
      "Epoch 82/100\n",
      "\u001b[1m220/220\u001b[0m \u001b[32m━━━━━━━━━━━━━━━━━━━━\u001b[0m\u001b[37m\u001b[0m \u001b[1m0s\u001b[0m 1ms/step - loss: 1457.2184 - mae: 27.8607 - val_loss: 264.2114 - val_mae: 11.8440 - learning_rate: 5.0000e-04\n",
      "Epoch 83/100\n",
      "\u001b[1m220/220\u001b[0m \u001b[32m━━━━━━━━━━━━━━━━━━━━\u001b[0m\u001b[37m\u001b[0m \u001b[1m0s\u001b[0m 1ms/step - loss: 1537.2529 - mae: 27.7500 - val_loss: 352.3801 - val_mae: 13.3739 - learning_rate: 5.0000e-04\n",
      "Epoch 84/100\n",
      "\u001b[1m220/220\u001b[0m \u001b[32m━━━━━━━━━━━━━━━━━━━━\u001b[0m\u001b[37m\u001b[0m \u001b[1m0s\u001b[0m 1ms/step - loss: 1496.5348 - mae: 28.2917 - val_loss: 299.1267 - val_mae: 10.8389 - learning_rate: 5.0000e-04\n",
      "Epoch 85/100\n",
      "\u001b[1m220/220\u001b[0m \u001b[32m━━━━━━━━━━━━━━━━━━━━\u001b[0m\u001b[37m\u001b[0m \u001b[1m0s\u001b[0m 1ms/step - loss: 1448.9669 - mae: 27.8355 - val_loss: 268.7212 - val_mae: 10.4386 - learning_rate: 5.0000e-04\n",
      "Epoch 86/100\n",
      "\u001b[1m220/220\u001b[0m \u001b[32m━━━━━━━━━━━━━━━━━━━━\u001b[0m\u001b[37m\u001b[0m \u001b[1m0s\u001b[0m 1ms/step - loss: 1518.8102 - mae: 28.2866 - val_loss: 388.6775 - val_mae: 12.1264 - learning_rate: 5.0000e-04\n",
      "Epoch 87/100\n",
      "\u001b[1m220/220\u001b[0m \u001b[32m━━━━━━━━━━━━━━━━━━━━\u001b[0m\u001b[37m\u001b[0m \u001b[1m0s\u001b[0m 1ms/step - loss: 1491.4337 - mae: 28.0054 - val_loss: 317.0284 - val_mae: 12.0547 - learning_rate: 5.0000e-04\n",
      "Epoch 88/100\n",
      "\u001b[1m220/220\u001b[0m \u001b[32m━━━━━━━━━━━━━━━━━━━━\u001b[0m\u001b[37m\u001b[0m \u001b[1m0s\u001b[0m 1ms/step - loss: 1430.4464 - mae: 26.9292 - val_loss: 326.3785 - val_mae: 12.0494 - learning_rate: 5.0000e-04\n",
      "Epoch 89/100\n",
      "\u001b[1m220/220\u001b[0m \u001b[32m━━━━━━━━━━━━━━━━━━━━\u001b[0m\u001b[37m\u001b[0m \u001b[1m0s\u001b[0m 1ms/step - loss: 1376.2000 - mae: 26.4114 - val_loss: 184.9155 - val_mae: 8.2872 - learning_rate: 5.0000e-04\n",
      "Epoch 90/100\n",
      "\u001b[1m220/220\u001b[0m \u001b[32m━━━━━━━━━━━━━━━━━━━━\u001b[0m\u001b[37m\u001b[0m \u001b[1m0s\u001b[0m 1ms/step - loss: 1316.1226 - mae: 26.5497 - val_loss: 306.1772 - val_mae: 11.7338 - learning_rate: 5.0000e-04\n",
      "Epoch 91/100\n",
      "\u001b[1m220/220\u001b[0m \u001b[32m━━━━━━━━━━━━━━━━━━━━\u001b[0m\u001b[37m\u001b[0m \u001b[1m0s\u001b[0m 1ms/step - loss: 1431.1735 - mae: 27.2423 - val_loss: 352.8336 - val_mae: 10.9736 - learning_rate: 5.0000e-04\n",
      "Epoch 92/100\n",
      "\u001b[1m220/220\u001b[0m \u001b[32m━━━━━━━━━━━━━━━━━━━━\u001b[0m\u001b[37m\u001b[0m \u001b[1m0s\u001b[0m 1ms/step - loss: 1318.3971 - mae: 26.5799 - val_loss: 229.7558 - val_mae: 9.7928 - learning_rate: 5.0000e-04\n",
      "Epoch 93/100\n",
      "\u001b[1m220/220\u001b[0m \u001b[32m━━━━━━━━━━━━━━━━━━━━\u001b[0m\u001b[37m\u001b[0m \u001b[1m0s\u001b[0m 1ms/step - loss: 1428.6353 - mae: 26.9570 - val_loss: 468.2259 - val_mae: 13.3998 - learning_rate: 5.0000e-04\n",
      "Epoch 94/100\n",
      "\u001b[1m220/220\u001b[0m \u001b[32m━━━━━━━━━━━━━━━━━━━━\u001b[0m\u001b[37m\u001b[0m \u001b[1m0s\u001b[0m 1ms/step - loss: 1450.1309 - mae: 27.5388 - val_loss: 230.1013 - val_mae: 9.6219 - learning_rate: 5.0000e-04\n",
      "Epoch 95/100\n",
      "\u001b[1m220/220\u001b[0m \u001b[32m━━━━━━━━━━━━━━━━━━━━\u001b[0m\u001b[37m\u001b[0m \u001b[1m0s\u001b[0m 1ms/step - loss: 1402.1351 - mae: 26.7897 - val_loss: 273.0299 - val_mae: 10.1997 - learning_rate: 5.0000e-04\n",
      "Epoch 96/100\n",
      "\u001b[1m220/220\u001b[0m \u001b[32m━━━━━━━━━━━━━━━━━━━━\u001b[0m\u001b[37m\u001b[0m \u001b[1m0s\u001b[0m 1ms/step - loss: 1394.9017 - mae: 27.0470 - val_loss: 272.1641 - val_mae: 10.2559 - learning_rate: 5.0000e-04\n",
      "Epoch 97/100\n",
      "\u001b[1m220/220\u001b[0m \u001b[32m━━━━━━━━━━━━━━━━━━━━\u001b[0m\u001b[37m\u001b[0m \u001b[1m0s\u001b[0m 1ms/step - loss: 1408.9829 - mae: 26.8466 - val_loss: 421.4617 - val_mae: 12.3146 - learning_rate: 5.0000e-04\n",
      "Epoch 98/100\n",
      "\u001b[1m220/220\u001b[0m \u001b[32m━━━━━━━━━━━━━━━━━━━━\u001b[0m\u001b[37m\u001b[0m \u001b[1m0s\u001b[0m 1ms/step - loss: 1305.5787 - mae: 26.1945 - val_loss: 310.9015 - val_mae: 10.8430 - learning_rate: 5.0000e-04\n",
      "Epoch 99/100\n",
      "\u001b[1m220/220\u001b[0m \u001b[32m━━━━━━━━━━━━━━━━━━━━\u001b[0m\u001b[37m\u001b[0m \u001b[1m0s\u001b[0m 1ms/step - loss: 1336.7443 - mae: 26.3734 - val_loss: 281.3621 - val_mae: 11.3137 - learning_rate: 5.0000e-04\n",
      "Epoch 100/100\n",
      "\u001b[1m220/220\u001b[0m \u001b[32m━━━━━━━━━━━━━━━━━━━━\u001b[0m\u001b[37m\u001b[0m \u001b[1m0s\u001b[0m 1ms/step - loss: 1343.4619 - mae: 26.0870 - val_loss: 278.7820 - val_mae: 11.0183 - learning_rate: 5.0000e-04\n"
     ]
    }
   ],
   "source": [
    "reduce_lr = tf.keras.callbacks.ReduceLROnPlateau(\n",
    "    monitor='val_loss', factor=0.5, patience=3, min_lr=0.001, verbose=1\n",
    ")\n",
    "\n",
    "early_stopping = tf.keras.callbacks.EarlyStopping(\n",
    "    monitor='val_loss', patience=10, restore_best_weights=True, verbose=1\n",
    ")\n",
    "\n",
    "model_checkpoint = tf.keras.callbacks.ModelCheckpoint(\n",
    "    'best_model.keras', monitor='val_loss', save_best_only=True, verbose=1\n",
    ")\n",
    "\n",
    "history = model.fit(\n",
    "    X_train, y_train,\n",
    "    epochs=100,  \n",
    "    batch_size=32,\n",
    "    validation_data=(X_test, y_test),\n",
    "    callbacks=[reduce_lr]  \n",
    ")"
   ]
  },
  {
   "cell_type": "markdown",
   "metadata": {},
   "source": [
    "# Model Evaluation"
   ]
  },
  {
   "cell_type": "code",
   "execution_count": 13,
   "metadata": {},
   "outputs": [
    {
     "name": "stdout",
     "output_type": "stream",
     "text": [
      "\u001b[1m55/55\u001b[0m \u001b[32m━━━━━━━━━━━━━━━━━━━━\u001b[0m\u001b[37m\u001b[0m \u001b[1m0s\u001b[0m 2ms/step\n",
      "MAE: 11.018303175699453\n",
      "MSE: 278.781980483152\n"
     ]
    }
   ],
   "source": [
    "y_pred = model.predict(X_test)\n",
    "\n",
    "y_pred = y_pred.flatten()\n",
    "y_test = y_test.to_numpy().flatten()\n",
    "\n",
    "mae = mean_absolute_error(y_test, y_pred)\n",
    "print(f'MAE: {mae}')\n",
    "\n",
    "mse = mean_squared_error(y_test, y_pred)\n",
    "print(f'MSE: {mse}')"
   ]
  },
  {
   "cell_type": "code",
   "execution_count": 14,
   "metadata": {},
   "outputs": [
    {
     "data": {
      "image/png": "[encoded data removed]",
      "text/plain": [
       "<Figure size 1200x500 with 2 Axes>"
      ]
     },
     "metadata": {},
     "output_type": "display_data"
    }
   ],
   "source": [
    "fig, axes = plt.subplots(1, 2, figsize=(12, 5))\n",
    "\n",
    "for ax, metric, title in zip(axes.flatten(), ['loss', 'mae'], ['Loss', 'Mean Absolute Error']):\n",
    "    ax.plot(history.history[metric], label=f'Training {title}')\n",
    "    ax.plot(history.history[f'val_{metric}'], label=f'Validation {title}')\n",
    "    ax.set_title(f'{title} over Epochs')\n",
    "    ax.set_xlabel('Epochs')\n",
    "    ax.set_ylabel(title)\n",
    "    ax.legend()\n",
    "    \n",
    "plt.tight_layout()\n",
    "plt.show()"
   ]
  },
  {
   "cell_type": "markdown",
   "metadata": {},
   "source": [
    "# Save Model"
   ]
  },
  {
   "cell_type": "code",
   "execution_count": 15,
   "metadata": {},
   "outputs": [
    {
     "name": "stderr",
     "output_type": "stream",
     "text": [
      "WARNING:absl:You are saving your model as an HDF5 file via `model.save()` or `keras.saving.save_model(model)`. This file format is considered legacy. We recommend using instead the native Keras format, e.g. `model.save('my_model.keras')` or `keras.saving.save_model(model, 'my_model.keras')`. \n"
     ]
    }
   ],
   "source": [
    "model.save('Model Checkpoint/Food_Calories_Prediction model.h5')"
   ]
  },
  {
   "cell_type": "code",
   "execution_count": 16,
   "metadata": {},
   "outputs": [
    {
     "name": "stdout",
     "output_type": "stream",
     "text": [
      "Model architecture has been saved as JSON.\n"
     ]
    }
   ],
   "source": [
    "model_json = model.to_json()\n",
    "\n",
    "with open('Model Checkpoint/food_calories_prediction_model_architecture.json', 'w') as json_file:\n",
    "    json_file.write(model_json)\n",
    "\n",
    "print(\"Model architecture has been saved as JSON.\")"
   ]
  },
  {
   "cell_type": "code",
   "execution_count": 17,
   "metadata": {},
   "outputs": [
    {
     "name": "stdout",
     "output_type": "stream",
     "text": [
      "Model weights have been saved as .bin.\n"
     ]
    }
   ],
   "source": [
    "weights = model.get_weights()\n",
    "\n",
    "with open('Model Checkpoint/food_calories_prediction_model_weights.bin', 'wb') as bin_file:\n",
    "    for weight_array in weights:\n",
    "        weight_array.astype(np.float32).tofile(bin_file)\n",
    "\n",
    "print(\"Model weights have been saved as .bin.\")"
   ]
  }
 ],
 "metadata": {
  "colab": {
   "provenance": []
  },
  "kernelspec": {
   "display_name": "Python 3",
   "name": "python3"
  },
  "language_info": {
   "codemirror_mode": {
    "name": "ipython",
    "version": 3
   },
   "file_extension": ".py",
   "mimetype": "text/x-python",
   "name": "python",
   "nbconvert_exporter": "python",
   "pygments_lexer": "ipython3",
   "version": "3.12.6"
  }
 },
 "nbformat": 4,
 "nbformat_minor": 0
}
