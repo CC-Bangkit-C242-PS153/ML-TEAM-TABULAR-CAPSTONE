{
 "cells": [
  {
   "cell_type": "markdown",
   "metadata": {},
   "source": [
    "# Library"
   ]
  },
  {
   "cell_type": "code",
   "execution_count": 1,
   "metadata": {},
   "outputs": [],
   "source": [
    "import tensorflow as tf\n",
    "import numpy as np"
   ]
  },
  {
   "cell_type": "markdown",
   "metadata": {},
   "source": [
    "# Load the model"
   ]
  },
  {
   "cell_type": "code",
   "execution_count": 2,
   "metadata": {},
   "outputs": [
    {
     "name": "stderr",
     "output_type": "stream",
     "text": [
      "WARNING:absl:Compiled the loaded model, but the compiled metrics have yet to be built. `model.compile_metrics` will be empty until you train or evaluate the model.\n"
     ]
    }
   ],
   "source": [
    "model = tf.keras.models.load_model('Model Checkpoint/Food_Calories_Prediction model.h5')"
   ]
  },
  {
   "cell_type": "markdown",
   "metadata": {},
   "source": [
    "# Predict"
   ]
  },
  {
   "cell_type": "code",
   "execution_count": 5,
   "metadata": {},
   "outputs": [
    {
     "name": "stdout",
     "output_type": "stream",
     "text": [
      "\u001b[1m1/1\u001b[0m \u001b[32m━━━━━━━━━━━━━━━━━━━━\u001b[0m\u001b[37m\u001b[0m \u001b[1m0s\u001b[0m 17ms/step\n",
      "Data 1:\n",
      "Predicted Calories: 746.3304443359375\n",
      "------------------------------\n",
      "Data 2:\n",
      "Predicted Calories: 731.7871704101562\n",
      "------------------------------\n",
      "Data 3:\n",
      "Predicted Calories: 899.7916259765625\n",
      "------------------------------\n",
      "Data 4:\n",
      "Predicted Calories: 349.78875732421875\n",
      "------------------------------\n",
      "Data 5:\n",
      "Predicted Calories: 371.24169921875\n",
      "------------------------------\n"
     ]
    }
   ],
   "source": [
    "new_data = np.array([\n",
    "    [15.87, 0.85, 81.11, 2.11, 0.06, 0.0, 0.06],  \n",
    "    [16.72, 0.49, 78.30, 1.62, 2.87, 0.0, 0.06],  \n",
    "    [0.24, 0.28, 99.48, 0.00, 0.00, 0.0, 0.00],   \n",
    "    [42.41, 21.40, 28.74, 5.11, 2.34, 0.0, 0.50], \n",
    "    [41.11, 23.24, 29.68, 3.18, 2.79, 0.0, 0.51]  \n",
    "])\n",
    "\n",
    "predictions = model.predict(new_data)\n",
    "\n",
    "for i, prediction in enumerate(predictions):\n",
    "    print(f\"Data {i+1}:\")\n",
    "    print(f\"Predicted Calories: {prediction[0]}\")  \n",
    "    print('-' * 30)"
   ]
  },
  {
   "cell_type": "markdown",
   "metadata": {},
   "source": [
    "# JSON and Weights"
   ]
  },
  {
   "cell_type": "code",
   "execution_count": 6,
   "metadata": {},
   "outputs": [
    {
     "name": "stdout",
     "output_type": "stream",
     "text": [
      "Model architecture has been saved as JSON.\n"
     ]
    }
   ],
   "source": [
    "model_json = model.to_json()\n",
    "\n",
    "with open('Model Checkpoint/food_calories_prediction_model_architecture.json', 'w') as json_file:\n",
    "    json_file.write(model_json)\n",
    "\n",
    "print(\"Model architecture has been saved as JSON.\")"
   ]
  },
  {
   "cell_type": "code",
   "execution_count": 7,
   "metadata": {},
   "outputs": [
    {
     "name": "stdout",
     "output_type": "stream",
     "text": [
      "Model weights have been saved as .bin.\n"
     ]
    }
   ],
   "source": [
    "weights = model.get_weights()\n",
    "\n",
    "with open('Model Checkpoint/food_calories_prediction_model_weights.bin', 'wb') as bin_file:\n",
    "    for weight_array in weights:\n",
    "        weight_array.astype(np.float32).tofile(bin_file)\n",
    "\n",
    "print(\"Model weights have been saved as .bin.\")"
   ]
  }
 ],
 "metadata": {
  "kernelspec": {
   "display_name": "Python 3",
   "language": "python",
   "name": "python3"
  },
  "language_info": {
   "codemirror_mode": {
    "name": "ipython",
    "version": 3
   },
   "file_extension": ".py",
   "mimetype": "text/x-python",
   "name": "python",
   "nbconvert_exporter": "python",
   "pygments_lexer": "ipython3",
   "version": "3.12.6"
  }
 },
 "nbformat": 4,
 "nbformat_minor": 2
}
