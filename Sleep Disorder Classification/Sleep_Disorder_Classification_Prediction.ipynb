{
 "cells": [
  {
   "cell_type": "markdown",
   "metadata": {},
   "source": [
    "# Library"
   ]
  },
  {
   "cell_type": "code",
   "execution_count": 1,
   "metadata": {},
   "outputs": [],
   "source": [
    "import tensorflow as tf\n",
    "import numpy as np"
   ]
  },
  {
   "cell_type": "markdown",
   "metadata": {},
   "source": [
    "# Load the model"
   ]
  },
  {
   "cell_type": "code",
   "execution_count": 2,
   "metadata": {},
   "outputs": [
    {
     "name": "stderr",
     "output_type": "stream",
     "text": [
      "WARNING:absl:Compiled the loaded model, but the compiled metrics have yet to be built. `model.compile_metrics` will be empty until you train or evaluate the model.\n"
     ]
    }
   ],
   "source": [
    "model = tf.keras.models.load_model('Model Checkpoint/sleep_disorder model.h5')"
   ]
  },
  {
   "cell_type": "markdown",
   "metadata": {},
   "source": [
    "# Predict"
   ]
  },
  {
   "cell_type": "code",
   "execution_count": 3,
   "metadata": {},
   "outputs": [
    {
     "name": "stdout",
     "output_type": "stream",
     "text": [
      "\u001b[1m1/1\u001b[0m \u001b[32m━━━━━━━━━━━━━━━━━━━━\u001b[0m\u001b[37m\u001b[0m \u001b[1m0s\u001b[0m 167ms/step\n",
      "Data 1:\n",
      "Predicted Probabilities: [0.00734223 0.98358893 0.0090688 ]\n",
      "Predicted Class: 1\n",
      "------------------------------\n",
      "Data 2:\n",
      "Predicted Probabilities: [0.01641999 0.4360656  0.5475144 ]\n",
      "Predicted Class: 2\n",
      "------------------------------\n",
      "Data 3:\n",
      "Predicted Probabilities: [0.2700553  0.07016896 0.6597757 ]\n",
      "Predicted Class: 2\n",
      "------------------------------\n",
      "Data 4:\n",
      "Predicted Probabilities: [0.26401213 0.7142924  0.02169548]\n",
      "Predicted Class: 1\n",
      "------------------------------\n",
      "Data 5:\n",
      "Predicted Probabilities: [6.2359684e-10 4.7119673e-02 9.5288038e-01]\n",
      "Predicted Class: 2\n",
      "------------------------------\n"
     ]
    }
   ],
   "source": [
    "new_data = np.array([\n",
    "    [0, 35, 7.0, 8, 50, 5, 1, 72, 8500, 118, 78],  # Female, 35, good sleep, moderate activity\n",
    "    [1, 40, 6.5, 7, 70, 3, 2, 80, 11000, 130, 85],  # Male, 40, fair sleep, active lifestyle\n",
    "    [0, 22, 5.5, 5, 20, 7, 3, 88, 3000, 135, 92],   # Female, 22, short sleep, high stress\n",
    "    [1, 50, 6.0, 6, 45, 4, 2, 76, 6000, 122, 80],  # Male, 50, average sleep, moderate stress\n",
    "    [0, 30, 8.0, 9, 80, 2, 0, 70, 15000, 110, 70]   # Female, 30, excellent sleep, very active\n",
    "])\n",
    "\n",
    "predictions = model.predict(new_data)\n",
    "\n",
    "for i, prediction in enumerate(predictions):\n",
    "    print(f\"Data {i+1}:\")\n",
    "    print(\"Predicted Probabilities:\", prediction)  \n",
    "    predicted_class = np.argmax(prediction)  \n",
    "    print(\"Predicted Class:\", predicted_class)\n",
    "    print('-' * 30)"
   ]
  },
  {
   "cell_type": "code",
   "execution_count": 16,
   "metadata": {},
   "outputs": [
    {
     "name": "stdout",
     "output_type": "stream",
     "text": [
      "Model architecture has been saved as JSON.\n"
     ]
    }
   ],
   "source": [
    "model_json = model.to_json()\n",
    "\n",
    "with open('model_architecture.json', 'w') as json_file:\n",
    "    json_file.write(model_json)\n",
    "\n",
    "print(\"Model architecture has been saved as JSON.\")"
   ]
  },
  {
   "cell_type": "code",
   "execution_count": 17,
   "metadata": {},
   "outputs": [
    {
     "name": "stdout",
     "output_type": "stream",
     "text": [
      "Model weights have been saved as .bin.\n"
     ]
    }
   ],
   "source": [
    "weights = model.get_weights()\n",
    "\n",
    "with open('model_weights.bin', 'wb') as bin_file:\n",
    "    for weight_array in weights:\n",
    "        weight_array.astype(np.float32).tofile(bin_file)\n",
    "\n",
    "print(\"Model weights have been saved as .bin.\")"
   ]
  }
 ],
 "metadata": {
  "kernelspec": {
   "display_name": "Python 3",
   "language": "python",
   "name": "python3"
  },
  "language_info": {
   "codemirror_mode": {
    "name": "ipython",
    "version": 3
   },
   "file_extension": ".py",
   "mimetype": "text/x-python",
   "name": "python",
   "nbconvert_exporter": "python",
   "pygments_lexer": "ipython3",
   "version": "3.12.6"
  }
 },
 "nbformat": 4,
 "nbformat_minor": 2
}
